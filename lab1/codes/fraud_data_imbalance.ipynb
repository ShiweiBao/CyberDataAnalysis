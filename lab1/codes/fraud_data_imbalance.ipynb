{
 "cells": [
  {
   "cell_type": "code",
   "execution_count": 14,
   "metadata": {
    "collapsed": false
   },
   "outputs": [],
   "source": [
    "import matplotlib.pyplot as plt\n",
    "from sklearn.decomposition import PCA\n",
    "\n",
    "import csv\n",
    "import pandas as pd\n",
    "import numpy as np\n",
    "import scipy.io as sio\n",
    "\n",
    "data = pd.read_csv('data_for_student_case-2.csv')"
   ]
  },
  {
   "cell_type": "code",
   "execution_count": 15,
   "metadata": {
    "collapsed": false
   },
   "outputs": [
    {
     "name": "stdout",
     "output_type": "stream",
     "text": [
      "['MXN' 'AUD' 'NZD' 'GBP' 'SEK']\n"
     ]
    }
   ],
   "source": [
    "## check how many kinds of currency are there?\n",
    "currencylist = data['currencycode'].unique()\n",
    "print(currencylist)\n"
   ]
  },
  {
   "cell_type": "code",
   "execution_count": 16,
   "metadata": {
    "collapsed": true
   },
   "outputs": [],
   "source": [
    "def perday(df,DateName):\n",
    "\n",
    "     df[DateName]=pd.to_datetime(df[DateName])\n",
    "     df=df.sort_values(by=DateName)\n",
    "     df[DateName]=df[DateName].dt.date\n",
    "     return df"
   ]
  },
  {
   "cell_type": "code",
   "execution_count": 17,
   "metadata": {
    "collapsed": true
   },
   "outputs": [],
   "source": [
    "## currency convert from amount to amountEUR\n",
    "\n",
    "#cardverificationresponsesupplied: did the shopper provide his 3 digit CVC/CVV2 code?\n",
    "#cvcresponsecode: Validation result of the CVC/CVV2 code: 0 = Unknown, 1=Match, 2=No Match, 3-6=Not checked  \n",
    "\n",
    "def transf(df):\n",
    "    currencyconvert = {\"AUD\":0.680237,\"MXN\":0.0487438,\"NZD\":0.630313,\"GBP\":1.18285,\"SEK\":0.103558}\n",
    "    amountEUR = []\n",
    "    for i in df.index:\n",
    "        if df['currencycode'][i] == \"MXN\":\n",
    "            amountEUR.append(currencyconvert[\"MXN\"]*df['amount'][i])\n",
    "#         print(datacharge.loc[i,['currencycode']])\n",
    "        if df['currencycode'][i] == \"AUD\":\n",
    "            amountEUR.append(currencyconvert[\"AUD\"]*df['amount'][i])\n",
    "\n",
    "        if df['currencycode'][i] == \"NZD\":\n",
    "            amountEUR.append(currencyconvert[\"NZD\"]*df['amount'][i])\n",
    "\n",
    "        if df['currencycode'][i] == \"GBP\":\n",
    "            amountEUR.append(currencyconvert[\"GBP\"]*df['amount'][i])\n",
    "\n",
    "        if df['currencycode'][i] == \"SEK\":\n",
    "            amountEUR.append(currencyconvert[\"SEK\"]*df['amount'][i])\n",
    "#amountEUR\n",
    "    df['amountEUR']=amountEUR\n",
    "    df=df.loc[:,['amountEUR','bookingdate','simple_journal','cardverificationcodesupplied','cvcresponsecode']]\n",
    "    dfcs=df[(df['simple_journal']=='Chargeback') | (df['simple_journal']=='Settled')]\n",
    "\n",
    "\n",
    "#from datetime to date difference\n",
    "    dfcs=perday(dfcs,'bookingdate')\n",
    "    firstday=dfcs.loc[17903,'bookingdate']\n",
    "    dfcs['bookingdate'] = dfcs['bookingdate']-firstday\n",
    "    dfcs['bookingdate']=dfcs['bookingdate'] / np.timedelta64(1, 'D')\n",
    "\n",
    "    dfcs.loc[dfcs['cardverificationcodesupplied']==False,'cardverificationcodesupplied']=0.0\n",
    "    dfcs.loc[dfcs['cardverificationcodesupplied']==True,'cardverificationcodesupplied']=1.0\n",
    "    dfcs=dfcs[(dfcs['cardverificationcodesupplied']==0) | (dfcs['cardverificationcodesupplied']==1)]\n",
    "    dfcs.loc[:,'cardverificationcodesupplied']=pd.to_numeric(dfcs.loc[:,'cardverificationcodesupplied'])\n",
    "    \n",
    "    dfcs.loc[dfcs['simple_journal']=='Chargeback','simple_journal']=1.0\n",
    "    dfcs.loc[dfcs['simple_journal']=='Settled','simple_journal']=0.0\n",
    "    dfcs.loc[:,'simple_journal']=pd.to_numeric(dfcs.loc[:,'simple_journal'])\n",
    "\n",
    "    dfcs.loc[:,'cvcresponsecode']=pd.to_numeric(dfcs.loc[:,'cvcresponsecode'])\n",
    "    \n",
    "    \n",
    "\n",
    "\n",
    "    return dfcs"
   ]
  },
  {
   "cell_type": "code",
   "execution_count": 18,
   "metadata": {
    "collapsed": false,
    "scrolled": true
   },
   "outputs": [
    {
     "name": "stderr",
     "output_type": "stream",
     "text": [
      "/usr/local/lib/python3.5/site-packages/ipykernel/__main__.py:3: SettingWithCopyWarning: \n",
      "A value is trying to be set on a copy of a slice from a DataFrame.\n",
      "Try using .loc[row_indexer,col_indexer] = value instead\n",
      "\n",
      "See the caveats in the documentation: http://pandas.pydata.org/pandas-docs/stable/indexing.html#indexing-view-versus-copy\n",
      "  app.launch_new_instance()\n"
     ]
    }
   ],
   "source": [
    "## preprocessing the data, aggregate by day and currency convert,  \n",
    "## transfer the data structure to numeric, and select the relevant features prepare for classificaiton\n",
    "dfcs=transf(data)"
   ]
  },
  {
   "cell_type": "code",
   "execution_count": 19,
   "metadata": {
    "collapsed": false,
    "scrolled": true
   },
   "outputs": [
    {
     "data": {
      "text/plain": [
       "amountEUR                       float64\n",
       "bookingdate                     float64\n",
       "simple_journal                  float64\n",
       "cardverificationcodesupplied    float64\n",
       "cvcresponsecode                   int64\n",
       "dtype: object"
      ]
     },
     "execution_count": 19,
     "metadata": {},
     "output_type": "execute_result"
    }
   ],
   "source": [
    "## check the data type \n",
    "dfcs.dtypes"
   ]
  },
  {
   "cell_type": "code",
   "execution_count": 20,
   "metadata": {
    "collapsed": false
   },
   "outputs": [],
   "source": [
    "##-----seperate the data to features and labels\n",
    "dffeatures = dfcs[['amountEUR','bookingdate','cardverificationcodesupplied','cvcresponsecode']]\n",
    "labels = dfcs['simple_journal']\n"
   ]
  },
  {
   "cell_type": "code",
   "execution_count": 22,
   "metadata": {
    "collapsed": false
   },
   "outputs": [
    {
     "name": "stdout",
     "output_type": "stream",
     "text": [
      "TP: 24\n",
      "FP: 2\n",
      "FN: 45\n",
      "TN: 44698\n"
     ]
    },
    {
     "data": {
      "image/png": "[encoded data removed]",
      "text/plain": [
       "<matplotlib.figure.Figure at 0x1163422e8>"
      ]
     },
     "metadata": {},
     "output_type": "display_data"
    }
   ],
   "source": [
    "from collections import Counter\n",
    "from sklearn.model_selection import train_test_split\n",
    "from sklearn.neighbors import KNeighborsClassifier\n",
    "from sklearn import neighbors\n",
    "from sklearn import datasets, linear_model\n",
    "from sklearn import metrics\n",
    "from sklearn.metrics import roc_curve, auc\n",
    "from imblearn.over_sampling import     SMOTE \n",
    "\n",
    "##-----Let's do the classification-------##\n",
    "##-----try 3 classifiers with both SMOTED and UNSMOTED data------##\n",
    "\n",
    "\n",
    "\n",
    "def classify(dffeatures,labels):\n",
    "    TP, FP, FN, TN = 0, 0, 0, 0\n",
    "    x_array = np.array(dffeatures)\n",
    "    y_array = np.array(labels)\n",
    "    usx = x_array\n",
    "    usy = y_array\n",
    "    x_train, x_test, y_train, y_test = train_test_split(usx, usy, test_size = 0.2)#test_size: proportion of train/test data\n",
    "    #--- classifier 1:  KNN \n",
    "    clf = neighbors.KNeighborsClassifier(n_neighbors=3)\n",
    "    \n",
    "    #---classifier 2: Linear Regression\n",
    "    # Create linear regression object\n",
    "#     regr = linear_model.LinearRegression()\n",
    "\n",
    "    # Train the model using the training sets\n",
    "#     regr.fit(x_train, y_train)\n",
    "    \n",
    "    ## -----do SMOTE on training data here---------## \n",
    "    ## -----remember : split the data first, then do SMOTE on train set. NEVER do test on modified set.\n",
    "    ## uncommit the following sentence to do SMOTE\n",
    "#     x_train, y_train = dosm(x_train, y_train)\n",
    "    \n",
    "    \n",
    "    clf.fit(x_train, y_train)\n",
    "    y_predict = clf.predict(x_test)\n",
    "    for i in range(len(y_predict)):\n",
    "        if y_test[i]==1 and y_predict[i]==1:\n",
    "            TP += 1\n",
    "        if y_test[i]==0 and y_predict[i]==1:\n",
    "            FP += 1\n",
    "        if y_test[i]==1 and y_predict[i]==0:\n",
    "            FN += 1\n",
    "        if y_test[i]==0 and y_predict[i]==0:\n",
    "            TN += 1\n",
    "    print ('TP: '+ str(TP))\n",
    "    print ('FP: '+ str(FP))\n",
    "    print ('FN: '+ str(FN))\n",
    "    print ('TN: '+ str(TN))\n",
    "    fpr, tpr, thresholds = metrics.roc_curve(y_test, y_predict)\n",
    "    roc_auc = auc(fpr, tpr)\n",
    "    \n",
    "    plt.figure()\n",
    "    lw = 2\n",
    "    plt.plot(fpr, tpr, color='darkorange',\n",
    "             lw=lw, label='ROC curve (area = %0.2f)' % roc_auc)\n",
    "    plt.plot([0, 1], [0, 1], color='navy', lw=lw, linestyle='--')\n",
    "    plt.xlim([0.0, 1.0])\n",
    "    plt.ylim([0.0, 1.05])\n",
    "    plt.xlabel('False Positive Rate')\n",
    "    plt.ylabel('True Positive Rate')\n",
    "    plt.title('ROC curve for KNN')\n",
    "    plt.legend(loc=\"lower right\")\n",
    "    ##------uncommited the sentence below to save the fig locally\n",
    "#     plt.savefig('ROC-KNN', ext='png', dpi=150)\n",
    "    plt.show()\n",
    "\n",
    "    return\n",
    "\n",
    "##---SMOTE function: oversample the minor class to same size with major class, just for train set\n",
    "def dosm(x_train, y_train):\n",
    "    print('Original dataset shape {}'.format(Counter(y_train)))\n",
    "    sm = SMOTE()\n",
    "    X_res, y_res = sm.fit_sample(x_train, y_train)\n",
    "    print('Resampled dataset shape {}'.format(Counter(y_res)))\n",
    "    x_train = X_res\n",
    "    y_train = y_res\n",
    "    return x_train, y_train\n",
    "\n",
    "\n",
    "classify(dffeatures,labels)\n",
    "\n",
    "\n",
    "\n",
    "# print (confusion_matrix(y_test, answear))\n",
    "#watch out the element in confusion matrix\n",
    "# precision, recall, thresholds = precision_recall_curve(y_test, y_predict)\n",
    "# predict_proba = clf.predict_proba(x_test)#the probability of each smple labelled to positive or negative\n",
    "\n"
   ]
  }
 ],
 "metadata": {
  "kernelspec": {
   "display_name": "Python 3",
   "language": "python",
   "name": "python3"
  },
  "language_info": {
   "codemirror_mode": {
    "name": "ipython",
    "version": 3
   },
   "file_extension": ".py",
   "mimetype": "text/x-python",
   "name": "python",
   "nbconvert_exporter": "python",
   "pygments_lexer": "ipython3",
   "version": "3.5.2"
  }
 },
 "nbformat": 4,
 "nbformat_minor": 2
}
