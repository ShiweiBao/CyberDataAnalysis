{
 "cells": [
  {
   "cell_type": "code",
   "execution_count": 1,
   "metadata": {
    "collapsed": false
   },
   "outputs": [],
   "source": [
    "import matplotlib.pyplot as plt\n",
    "from sklearn.datasets import make_classification\n",
    "from sklearn.decomposition import PCA\n",
    "\n",
    "from imblearn.over_sampling import SMOTE\n"
   ]
  },
  {
   "cell_type": "code",
   "execution_count": 2,
   "metadata": {
    "collapsed": false
   },
   "outputs": [],
   "source": [
    "import csv\n",
    "import pandas as pd\n",
    "import numpy as np\n",
    "import scipy.io as sio\n",
    "data = pd.read_csv('data_for_student_case-2.csv')"
   ]
  },
  {
   "cell_type": "code",
   "execution_count": 3,
   "metadata": {
    "collapsed": false
   },
   "outputs": [
    {
     "name": "stdout",
     "output_type": "stream",
     "text": [
      "['MXN' 'AUD' 'NZD' 'GBP' 'SEK']\n"
     ]
    }
   ],
   "source": [
    "## check how many kinds of currency are there?\n",
    "currencylist = data['currencycode'].unique()\n",
    "print(currencylist)\n"
   ]
  },
  {
   "cell_type": "code",
   "execution_count": 4,
   "metadata": {
    "collapsed": true
   },
   "outputs": [],
   "source": [
    "def perday(df,DateName):\n",
    "\n",
    "     df[DateName]=pd.to_datetime(df[DateName])\n",
    "     df=df.sort_values(by=DateName)\n",
    "     df[DateName]=df[DateName].dt.date\n",
    "     return df"
   ]
  },
  {
   "cell_type": "code",
   "execution_count": 5,
   "metadata": {
    "collapsed": true
   },
   "outputs": [],
   "source": [
    "## currency convert from amount to amountEUR\n",
    "\n",
    "\n",
    "#cardverificationresponsesupplied: did the shopper provide his 3 digit CVC/CVV2 code?\n",
    "#cvcresponsecode: Validation result of the CVC/CVV2 code: 0 = Unknown, 1=Match, 2=No Match, 3-6=Not checked  \n",
    "\n",
    "def transf(df):\n",
    "    currencyconvert = {\"AUD\":0.680237,\"MXN\":0.0487438,\"NZD\":0.630313,\"GBP\":1.18285,\"SEK\":0.103558}\n",
    "    amountEUR = []\n",
    "    for i in df.index:\n",
    "        if df['currencycode'][i] == \"MXN\":\n",
    "            amountEUR.append(currencyconvert[\"MXN\"]*df['amount'][i])\n",
    "#         print(datacharge.loc[i,['currencycode']])\n",
    "        if df['currencycode'][i] == \"AUD\":\n",
    "            amountEUR.append(currencyconvert[\"AUD\"]*df['amount'][i])\n",
    "\n",
    "        if df['currencycode'][i] == \"NZD\":\n",
    "            amountEUR.append(currencyconvert[\"NZD\"]*df['amount'][i])\n",
    "\n",
    "        if df['currencycode'][i] == \"GBP\":\n",
    "            amountEUR.append(currencyconvert[\"GBP\"]*df['amount'][i])\n",
    "\n",
    "        if df['currencycode'][i] == \"SEK\":\n",
    "            amountEUR.append(currencyconvert[\"SEK\"]*df['amount'][i])\n",
    "#amountEUR\n",
    "\n",
    "    df=df.loc[:,['amount','bookingdate','simple_journal','cardverificationcodesupplied','cvcresponsecode']]\n",
    "    dfcs=df[(df['simple_journal']=='Chargeback') | (df['simple_journal']=='Settled')]\n",
    "\n",
    "\n",
    "#from datetime to date difference\n",
    "    dfcs=perday(dfcs,'bookingdate')\n",
    "    firstday=dfcs.loc[17903,'bookingdate']\n",
    "    dfcs['bookingdate'] = dfcs['bookingdate']-firstday\n",
    "    dfcs['bookingdate']=dfcs['bookingdate'] / np.timedelta64(1, 'D')\n",
    "\n",
    "    dfcs.loc[dfcs['cardverificationcodesupplied']==False,'cardverificationcodesupplied']=0.0\n",
    "    dfcs.loc[dfcs['cardverificationcodesupplied']==True,'cardverificationcodesupplied']=1.0\n",
    "    dfcs=dfcs[(dfcs['cardverificationcodesupplied']==0) | (dfcs['cardverificationcodesupplied']==1)]\n",
    "    dfcs.loc[:,'cardverificationcodesupplied']=pd.to_numeric(dfcs.loc[:,'cardverificationcodesupplied'])\n",
    "    \n",
    "    dfcs.loc[dfcs['simple_journal']=='Chargeback','simple_journal']=1.0\n",
    "    dfcs.loc[dfcs['simple_journal']=='Settled','simple_journal']=0.0\n",
    "    dfcs.loc[:,'simple_journal']=pd.to_numeric(dfcs.loc[:,'simple_journal'])\n",
    "\n",
    "    dfcs.loc[:,'cvcresponsecode']=pd.to_numeric(dfcs.loc[:,'cvcresponsecode'])\n",
    "    \n",
    "    \n",
    "\n",
    "\n",
    "    return dfcs"
   ]
  },
  {
   "cell_type": "code",
   "execution_count": 6,
   "metadata": {
    "collapsed": false,
    "scrolled": true
   },
   "outputs": [
    {
     "name": "stderr",
     "output_type": "stream",
     "text": [
      "/usr/local/lib/python3.5/site-packages/ipykernel/__main__.py:3: SettingWithCopyWarning: \n",
      "A value is trying to be set on a copy of a slice from a DataFrame.\n",
      "Try using .loc[row_indexer,col_indexer] = value instead\n",
      "\n",
      "See the caveats in the documentation: http://pandas.pydata.org/pandas-docs/stable/indexing.html#indexing-view-versus-copy\n",
      "  app.launch_new_instance()\n"
     ]
    }
   ],
   "source": [
    "dfcs=transf(data)"
   ]
  },
  {
   "cell_type": "code",
   "execution_count": 7,
   "metadata": {
    "collapsed": false,
    "scrolled": true
   },
   "outputs": [
    {
     "data": {
      "text/plain": [
       "amount                          float64\n",
       "bookingdate                     float64\n",
       "simple_journal                  float64\n",
       "cardverificationcodesupplied    float64\n",
       "cvcresponsecode                   int64\n",
       "dtype: object"
      ]
     },
     "execution_count": 7,
     "metadata": {},
     "output_type": "execute_result"
    }
   ],
   "source": [
    "dfcs.dtypes"
   ]
  },
  {
   "cell_type": "code",
   "execution_count": 9,
   "metadata": {
    "collapsed": false
   },
   "outputs": [],
   "source": [
    "##-----seperate the data to features and labels\n",
    "dffeatures = dfcs[['amount','bookingdate','cardverificationcodesupplied','cvcresponsecode']]\n",
    "labels = dfcs['simple_journal']\n"
   ]
  },
  {
   "cell_type": "code",
   "execution_count": 11,
   "metadata": {
    "collapsed": false
   },
   "outputs": [
    {
     "name": "stdout",
     "output_type": "stream",
     "text": [
      "TP: 24\n",
      "FP: 2\n",
      "FN: 36\n",
      "TN: 44707\n"
     ]
    }
   ],
   "source": [
    "from sklearn.model_selection import train_test_split\n",
    "from sklearn.neighbors import KNeighborsClassifier\n",
    "from sklearn import neighbors\n",
    "\n",
    "## test with UNSMOTED train set\n",
    "\n",
    "\n",
    "TP, FP, FN, TN = 0, 0, 0, 0\n",
    "x_array = np.array(dffeatures)\n",
    "y_array = np.array(labels)\n",
    "usx = x_array\n",
    "usy = y_array\n",
    "x_train, x_test, y_train, y_test = train_test_split(usx, usy, test_size = 0.2)#test_size: proportion of train/test data\n",
    "clf = neighbors.KNeighborsClassifier(n_neighbors=3)\n",
    "clf.fit(x_train, y_train)\n",
    "y_predict = clf.predict(x_test)\n",
    "for i in range(len(y_predict)):\n",
    "    if y_test[i]==1 and y_predict[i]==1:\n",
    "        TP += 1\n",
    "    if y_test[i]==0 and y_predict[i]==1:\n",
    "        FP += 1\n",
    "    if y_test[i]==1 and y_predict[i]==0:\n",
    "        FN += 1\n",
    "    if y_test[i]==0 and y_predict[i]==0:\n",
    "        TN += 1\n",
    "print ('TP: '+ str(TP))\n",
    "print ('FP: '+ str(FP))\n",
    "print ('FN: '+ str(FN))\n",
    "print ('TN: '+ str(TN))\n",
    "\n",
    "# print (confusion_matrix(y_test, answear))\n",
    "#watch out the element in confusion matrix\n",
    "# precision, recall, thresholds = precision_recall_curve(y_test, y_predict)\n",
    "# predict_proba = clf.predict_proba(x_test)#the probability of each smple labelled to positive or negative"
   ]
  },
  {
   "cell_type": "code",
   "execution_count": 13,
   "metadata": {
    "collapsed": false,
    "scrolled": true
   },
   "outputs": [
    {
     "name": "stdout",
     "output_type": "stream",
     "text": [
      "Original dataset shape Counter({0.0: 178802, 1.0: 271})\n",
      "Resampled dataset shape Counter({0.0: 178802, 1.0: 178802})\n",
      "TP: 63\n",
      "FP: 595\n",
      "FN: 11\n",
      "TN: 44100\n"
     ]
    }
   ],
   "source": [
    "## test with SMOTED train set\n",
    "\n",
    "from collections import Counter\n",
    "from sklearn.datasets import make_classification\n",
    "from imblearn.over_sampling import     SMOTE \n",
    "\n",
    "TP, FP, FN, TN = 0, 0, 0, 0\n",
    "x_array = np.array(dffeatures)\n",
    "y_array = np.array(labels)\n",
    "usx = x_array\n",
    "usy = y_array\n",
    "##------TO DO : split the data by sequential , \"Chargeback\" is only valid after its booking data\n",
    "##------train on the past data, and test the future data\n",
    "\n",
    "x_train, x_test, y_train, y_test = train_test_split(usx, usy, test_size = 0.2)#test_size: proportion of train/test data\n",
    "clf = neighbors.KNeighborsClassifier(n_neighbors=3)\n",
    "\n",
    "## -----do SMOTE on training data here, \n",
    "## -----remember : split the data first, then do SMOTE on train set. NEVER do test on modified set.\n",
    "\n",
    "print('Original dataset shape {}'.format(Counter(y_train)))\n",
    "sm = SMOTE()\n",
    "X_res, y_res = sm.fit_sample(x_train, y_train)\n",
    "print('Resampled dataset shape {}'.format(Counter(y_res)))\n",
    "x_train = X_res\n",
    "y_train = y_res\n",
    "\n",
    "\n",
    "\n",
    "clf.fit(x_train, y_train)\n",
    "y_predict = clf.predict(x_test)\n",
    "for i in range(len(y_predict)):\n",
    "    if y_test[i]==1 and y_predict[i]==1:\n",
    "        TP += 1\n",
    "    if y_test[i]==0 and y_predict[i]==1:\n",
    "        FP += 1\n",
    "    if y_test[i]==1 and y_predict[i]==0:\n",
    "        FN += 1\n",
    "    if y_test[i]==0 and y_predict[i]==0:\n",
    "        TN += 1\n",
    "print ('TP: '+ str(TP))\n",
    "print ('FP: '+ str(FP))\n",
    "print ('FN: '+ str(FN))\n",
    "print ('TN: '+ str(TN))"
   ]
  }
 ],
 "metadata": {
  "kernelspec": {
   "display_name": "Python 3",
   "language": "python",
   "name": "python3"
  },
  "language_info": {
   "codemirror_mode": {
    "name": "ipython",
    "version": 3
   },
   "file_extension": ".py",
   "mimetype": "text/x-python",
   "name": "python",
   "nbconvert_exporter": "python",
   "pygments_lexer": "ipython3",
   "version": "3.5.2"
  }
 },
 "nbformat": 4,
 "nbformat_minor": 2
}
