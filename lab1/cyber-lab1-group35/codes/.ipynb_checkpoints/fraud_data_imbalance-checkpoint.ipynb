{
 "cells": [
  {
   "cell_type": "code",
   "execution_count": 1,
   "metadata": {
    "collapsed": false
   },
   "outputs": [],
   "source": [
    "import matplotlib.pyplot as plt\n",
    "from sklearn.datasets import make_classification\n",
    "from sklearn.decomposition import PCA\n",
    "\n",
    "from imblearn.over_sampling import SMOTE\n"
   ]
  },
  {
   "cell_type": "code",
   "execution_count": 2,
   "metadata": {
    "collapsed": false
   },
   "outputs": [],
   "source": [
    "import csv\n",
    "import pandas as pd\n",
    "import numpy as np\n",
    "import scipy.io as sio\n",
    "data = pd.read_csv('data_for_student_case-2.csv')"
   ]
  },
  {
   "cell_type": "code",
   "execution_count": 3,
   "metadata": {
    "collapsed": false
   },
   "outputs": [
    {
     "name": "stdout",
     "output_type": "stream",
     "text": [
      "['MXN' 'AUD' 'NZD' 'GBP' 'SEK']\n"
     ]
    }
   ],
   "source": [
    "## check how many kinds of currency are there?\n",
    "currencylist = data['currencycode'].unique()\n",
    "print(currencylist)\n"
   ]
  },
  {
   "cell_type": "code",
   "execution_count": 4,
   "metadata": {
    "collapsed": true
   },
   "outputs": [],
   "source": [
    "def perday(df,DateName):\n",
    "\n",
    "     df[DateName]=pd.to_datetime(df[DateName])\n",
    "     df=df.sort_values(by=DateName)\n",
    "     df[DateName]=df[DateName].dt.date\n",
    "     return df"
   ]
  },
  {
   "cell_type": "code",
   "execution_count": 5,
   "metadata": {
    "collapsed": true
   },
   "outputs": [],
   "source": [
    "## currency convert from amount to amountEUR\n",
    "\n",
    "\n",
    "#cardverificationresponsesupplied: did the shopper provide his 3 digit CVC/CVV2 code?\n",
    "#cvcresponsecode: Validation result of the CVC/CVV2 code: 0 = Unknown, 1=Match, 2=No Match, 3-6=Not checked  \n",
    "\n",
    "def transf(df):\n",
    "    currencyconvert = {\"AUD\":0.680237,\"MXN\":0.0487438,\"NZD\":0.630313,\"GBP\":1.18285,\"SEK\":0.103558}\n",
    "    amountEUR = []\n",
    "    for i in df.index:\n",
    "        if df['currencycode'][i] == \"MXN\":\n",
    "            amountEUR.append(currencyconvert[\"MXN\"]*df['amount'][i])\n",
    "#         print(datacharge.loc[i,['currencycode']])\n",
    "        if df['currencycode'][i] == \"AUD\":\n",
    "            amountEUR.append(currencyconvert[\"AUD\"]*df['amount'][i])\n",
    "\n",
    "        if df['currencycode'][i] == \"NZD\":\n",
    "            amountEUR.append(currencyconvert[\"NZD\"]*df['amount'][i])\n",
    "\n",
    "        if df['currencycode'][i] == \"GBP\":\n",
    "            amountEUR.append(currencyconvert[\"GBP\"]*df['amount'][i])\n",
    "\n",
    "        if df['currencycode'][i] == \"SEK\":\n",
    "            amountEUR.append(currencyconvert[\"SEK\"]*df['amount'][i])\n",
    "#amountEUR\n",
    "\n",
    "    df=df.loc[:,['amount','bookingdate','simple_journal','cardverificationcodesupplied','cvcresponsecode']]\n",
    "    dfcs=df[(df['simple_journal']=='Chargeback') | (df['simple_journal']=='Settled')]\n",
    "\n",
    "\n",
    "#from datetime to date difference\n",
    "    dfcs=perday(dfcs,'bookingdate')\n",
    "    firstday=dfcs.loc[17903,'bookingdate']\n",
    "    dfcs['bookingdate'] = dfcs['bookingdate']-firstday\n",
    "    dfcs['bookingdate']=dfcs['bookingdate'] / np.timedelta64(1, 'D')\n",
    "\n",
    "    dfcs.loc[dfcs['cardverificationcodesupplied']==False,'cardverificationcodesupplied']=0.0\n",
    "    dfcs.loc[dfcs['cardverificationcodesupplied']==True,'cardverificationcodesupplied']=1.0\n",
    "    dfcs=dfcs[(dfcs['cardverificationcodesupplied']==0) | (dfcs['cardverificationcodesupplied']==1)]\n",
    "    dfcs.loc[:,'cardverificationcodesupplied']=pd.to_numeric(dfcs.loc[:,'cardverificationcodesupplied'])\n",
    "    \n",
    "    dfcs.loc[dfcs['simple_journal']=='Chargeback','simple_journal']=1.0\n",
    "    dfcs.loc[dfcs['simple_journal']=='Settled','simple_journal']=0.0\n",
    "    dfcs.loc[:,'simple_journal']=pd.to_numeric(dfcs.loc[:,'simple_journal'])\n",
    "\n",
    "    dfcs.loc[:,'cvcresponsecode']=pd.to_numeric(dfcs.loc[:,'cvcresponsecode'])\n",
    "    \n",
    "    \n",
    "\n",
    "\n",
    "    return dfcs"
   ]
  },
  {
   "cell_type": "code",
   "execution_count": 6,
   "metadata": {
    "collapsed": false,
    "scrolled": true
   },
   "outputs": [
    {
     "name": "stderr",
     "output_type": "stream",
     "text": [
      "/usr/local/lib/python3.5/site-packages/ipykernel/__main__.py:3: SettingWithCopyWarning: \n",
      "A value is trying to be set on a copy of a slice from a DataFrame.\n",
      "Try using .loc[row_indexer,col_indexer] = value instead\n",
      "\n",
      "See the caveats in the documentation: http://pandas.pydata.org/pandas-docs/stable/indexing.html#indexing-view-versus-copy\n",
      "  app.launch_new_instance()\n"
     ]
    }
   ],
   "source": [
    "dfcs=transf(data)"
   ]
  },
  {
   "cell_type": "code",
   "execution_count": 7,
   "metadata": {
    "collapsed": false,
    "scrolled": true
   },
   "outputs": [
    {
     "data": {
      "text/plain": [
       "amount                          float64\n",
       "bookingdate                     float64\n",
       "simple_journal                  float64\n",
       "cardverificationcodesupplied    float64\n",
       "cvcresponsecode                   int64\n",
       "dtype: object"
      ]
     },
     "execution_count": 7,
     "metadata": {},
     "output_type": "execute_result"
    }
   ],
   "source": [
    "dfcs.dtypes"
   ]
  },
  {
   "cell_type": "code",
   "execution_count": 115,
   "metadata": {
    "collapsed": true
   },
   "outputs": [
    {
     "data": {
      "text/plain": [
       "17903     0.0\n",
       "17904     0.0\n",
       "17905     0.0\n",
       "17906     0.0\n",
       "17907     0.0\n",
       "17908     0.0\n",
       "17909     0.0\n",
       "17910     0.0\n",
       "17911     0.0\n",
       "17912     0.0\n",
       "17913     0.0\n",
       "17914     0.0\n",
       "17915     0.0\n",
       "17916     0.0\n",
       "17917     0.0\n",
       "17918     0.0\n",
       "17919     0.0\n",
       "17920     0.0\n",
       "17921     0.0\n",
       "17922     0.0\n",
       "17923     0.0\n",
       "17924     0.0\n",
       "17925     0.0\n",
       "17926     0.0\n",
       "17927     0.0\n",
       "17928     0.0\n",
       "17929     0.0\n",
       "17930     0.0\n",
       "17931     0.0\n",
       "17932     0.0\n",
       "         ... \n",
       "147       1.0\n",
       "144       1.0\n",
       "143       1.0\n",
       "150       1.0\n",
       "146       1.0\n",
       "140       1.0\n",
       "152       1.0\n",
       "153       1.0\n",
       "58671     1.0\n",
       "266073    1.0\n",
       "28015     1.0\n",
       "28017     1.0\n",
       "28018     1.0\n",
       "28021     1.0\n",
       "58651     1.0\n",
       "28016     1.0\n",
       "58652     1.0\n",
       "266077    1.0\n",
       "74        1.0\n",
       "145       1.0\n",
       "112       1.0\n",
       "114       1.0\n",
       "98        1.0\n",
       "128       1.0\n",
       "142       1.0\n",
       "131       1.0\n",
       "154       1.0\n",
       "149       1.0\n",
       "117       1.0\n",
       "58664     1.0\n",
       "Name: simple_journal, dtype: float64"
      ]
     },
     "execution_count": 115,
     "metadata": {},
     "output_type": "execute_result"
    }
   ],
   "source": [
    "# len(dfcs[dfcs['simple_journal']==0])\n",
    "dffeatures = dfcs[['amount','bookingdate','cardverificationcodesupplied','cvcresponsecode']]\n",
    "dffeatures\n",
    "labels = dfcs['simple_journal']\n",
    "labels"
   ]
  },
  {
   "cell_type": "code",
   "execution_count": 116,
   "metadata": {
    "collapsed": false
   },
   "outputs": [
    {
     "data": {
      "text/plain": [
       "array([ 0.,  0.,  0., ...,  1.,  1.,  1.])"
      ]
     },
     "execution_count": 116,
     "metadata": {},
     "output_type": "execute_result"
    }
   ],
   "source": [
    "x_array = np.array(dffeatures)\n",
    "y_array = np.array(labels)\n",
    "y_array"
   ]
  },
  {
   "cell_type": "code",
   "execution_count": 59,
   "metadata": {
    "collapsed": false
   },
   "outputs": [
    {
     "name": "stdout",
     "output_type": "stream",
     "text": [
      "Original dataset shape Counter({1: 900, 0: 100})\n"
     ]
    }
   ],
   "source": [
    "from collections import Counter\n",
    "from sklearn.datasets import make_classification\n",
    "from imblearn.over_sampling import     SMOTE \n",
    "X, y = make_classification(n_classes=2, class_sep=2,weights=[0.1, 0.9], n_informative=3, n_redundant=1, flip_y=0,n_features=20, n_clusters_per_class=1, n_samples=1000, random_state=10)\n",
    "print('Original dataset shape {}'.format(Counter(y)))\n"
   ]
  },
  {
   "cell_type": "code",
   "execution_count": 117,
   "metadata": {
    "collapsed": false
   },
   "outputs": [
    {
     "name": "stdout",
     "output_type": "stream",
     "text": [
      "Original dataset shape Counter({0.0: 223497, 1.0: 345})\n",
      "Resampled dataset shape Counter({0.0: 223497, 1.0: 223497})\n"
     ]
    }
   ],
   "source": [
    "print('Original dataset shape {}'.format(Counter(labels)))\n",
    "sm = SMOTE()\n",
    "X_res, y_res = sm.fit_sample(dffeatures, labels)\n",
    "print('Resampled dataset shape {}'.format(Counter(y_res)))"
   ]
  },
  {
   "cell_type": "code",
   "execution_count": 120,
   "metadata": {
    "collapsed": false
   },
   "outputs": [
    {
     "name": "stdout",
     "output_type": "stream",
     "text": [
      "TP: 19\n",
      "FP: 1\n",
      "FN: 55\n",
      "TN: 44694\n"
     ]
    }
   ],
   "source": [
    "from sklearn.model_selection import train_test_split\n",
    "from sklearn.neighbors import KNeighborsClassifier\n",
    "from sklearn import neighbors\n",
    "\n",
    "## test with UNSMOTED train set\n",
    "\n",
    "\n",
    "TP, FP, FN, TN = 0, 0, 0, 0\n",
    "x_array = np.array(dffeatures)\n",
    "y_array = np.array(labels)\n",
    "usx = x_array\n",
    "usy = y_array\n",
    "x_train, x_test, y_train, y_test = train_test_split(usx, usy, test_size = 0.2)#test_size: proportion of train/test data\n",
    "clf = neighbors.KNeighborsClassifier(n_neighbors=3)\n",
    "clf.fit(x_train, y_train)\n",
    "y_predict = clf.predict(x_test)\n",
    "for i in range(len(y_predict)):\n",
    "    if y_test[i]==1 and y_predict[i]==1:\n",
    "        TP += 1\n",
    "    if y_test[i]==0 and y_predict[i]==1:\n",
    "        FP += 1\n",
    "    if y_test[i]==1 and y_predict[i]==0:\n",
    "        FN += 1\n",
    "    if y_test[i]==0 and y_predict[i]==0:\n",
    "        TN += 1\n",
    "print ('TP: '+ str(TP))\n",
    "print ('FP: '+ str(FP))\n",
    "print ('FN: '+ str(FN))\n",
    "print ('TN: '+ str(TN))\n",
    "\n",
    "# print (confusion_matrix(y_test, answear))\n",
    "#watch out the element in confusion matrix\n",
    "# precision, recall, thresholds = precision_recall_curve(y_test, y_predict)\n",
    "# predict_proba = clf.predict_proba(x_test)#the probability of each smple labelled to positive or negative"
   ]
  },
  {
   "cell_type": "code",
   "execution_count": 121,
   "metadata": {
    "collapsed": false
   },
   "outputs": [
    {
     "name": "stdout",
     "output_type": "stream",
     "text": [
      "Original dataset shape Counter({0.0: 178783, 1.0: 290})\n",
      "Resampled dataset shape Counter({0.0: 178783, 1.0: 178783})\n",
      "TP: 43\n",
      "FP: 673\n",
      "FN: 12\n",
      "TN: 44041\n"
     ]
    }
   ],
   "source": [
    "## test with SMOTED train set\n",
    "TP, FP, FN, TN = 0, 0, 0, 0\n",
    "x_array = np.array(dffeatures)\n",
    "y_array = np.array(labels)\n",
    "usx = x_array\n",
    "usy = y_array\n",
    "x_train, x_test, y_train, y_test = train_test_split(usx, usy, test_size = 0.2)#test_size: proportion of train/test data\n",
    "clf = neighbors.KNeighborsClassifier(n_neighbors=3)\n",
    "\n",
    "## -----do SMOTE on training data here\n",
    "\n",
    "print('Original dataset shape {}'.format(Counter(y_train)))\n",
    "sm = SMOTE()\n",
    "X_res, y_res = sm.fit_sample(x_train, y_train)\n",
    "print('Resampled dataset shape {}'.format(Counter(y_res)))\n",
    "x_train = X_res\n",
    "y_train = y_res\n",
    "\n",
    "\n",
    "clf.fit(x_train, y_train)\n",
    "y_predict = clf.predict(x_test)\n",
    "for i in range(len(y_predict)):\n",
    "    if y_test[i]==1 and y_predict[i]==1:\n",
    "        TP += 1\n",
    "    if y_test[i]==0 and y_predict[i]==1:\n",
    "        FP += 1\n",
    "    if y_test[i]==1 and y_predict[i]==0:\n",
    "        FN += 1\n",
    "    if y_test[i]==0 and y_predict[i]==0:\n",
    "        TN += 1\n",
    "print ('TP: '+ str(TP))\n",
    "print ('FP: '+ str(FP))\n",
    "print ('FN: '+ str(FN))\n",
    "print ('TN: '+ str(TN))"
   ]
  }
 ],
 "metadata": {
  "kernelspec": {
   "display_name": "Python 3",
   "language": "python",
   "name": "python3"
  },
  "language_info": {
   "codemirror_mode": {
    "name": "ipython",
    "version": 3
   },
   "file_extension": ".py",
   "mimetype": "text/x-python",
   "name": "python",
   "nbconvert_exporter": "python",
   "pygments_lexer": "ipython3",
   "version": "3.5.2"
  }
 },
 "nbformat": 4,
 "nbformat_minor": 2
}
