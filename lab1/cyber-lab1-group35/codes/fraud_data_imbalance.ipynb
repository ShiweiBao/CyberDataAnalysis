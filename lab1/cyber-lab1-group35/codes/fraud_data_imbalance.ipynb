{
 "cells": [
  {
   "cell_type": "code",
   "execution_count": 1,
   "metadata": {
    "collapsed": false
   },
   "outputs": [],
   "source": [
    "import matplotlib.pyplot as plt\n",
    "from sklearn.decomposition import PCA\n",
    "\n",
    "import csv\n",
    "import pandas as pd\n",
    "import numpy as np\n",
    "import scipy.io as sio\n",
    "\n",
    "data = pd.read_csv('data_for_student_case-2.csv')"
   ]
  },
  {
   "cell_type": "code",
   "execution_count": 2,
   "metadata": {
    "collapsed": false
   },
   "outputs": [
    {
     "name": "stdout",
     "output_type": "stream",
     "text": [
      "['MXN' 'AUD' 'NZD' 'GBP' 'SEK']\n"
     ]
    }
   ],
   "source": [
    "## check how many kinds of currency are there?\n",
    "currencylist = data['currencycode'].unique()\n",
    "print(currencylist)\n"
   ]
  },
  {
   "cell_type": "code",
   "execution_count": 3,
   "metadata": {
    "collapsed": true
   },
   "outputs": [],
   "source": [
    "def perday(df,DateName):\n",
    "\n",
    "     df[DateName]=pd.to_datetime(df[DateName])\n",
    "     df=df.sort_values(by=DateName)\n",
    "     df[DateName]=df[DateName].dt.date\n",
    "     return df"
   ]
  },
  {
   "cell_type": "code",
   "execution_count": 4,
   "metadata": {
    "collapsed": true
   },
   "outputs": [],
   "source": [
    "## currency convert from amount to amountEUR\n",
    "\n",
    "#cardverificationresponsesupplied: did the shopper provide his 3 digit CVC/CVV2 code?\n",
    "#cvcresponsecode: Validation result of the CVC/CVV2 code: 0 = Unknown, 1=Match, 2=No Match, 3-6=Not checked  \n",
    "\n",
    "def transf(df):\n",
    "    currencyconvert = {\"AUD\":0.680237,\"MXN\":0.0487438,\"NZD\":0.630313,\"GBP\":1.18285,\"SEK\":0.103558}\n",
    "    amountEUR = []\n",
    "    for i in df.index:\n",
    "        if df['currencycode'][i] == \"MXN\":\n",
    "            amountEUR.append(currencyconvert[\"MXN\"]*df['amount'][i])\n",
    "#         print(datacharge.loc[i,['currencycode']])\n",
    "        if df['currencycode'][i] == \"AUD\":\n",
    "            amountEUR.append(currencyconvert[\"AUD\"]*df['amount'][i])\n",
    "\n",
    "        if df['currencycode'][i] == \"NZD\":\n",
    "            amountEUR.append(currencyconvert[\"NZD\"]*df['amount'][i])\n",
    "\n",
    "        if df['currencycode'][i] == \"GBP\":\n",
    "            amountEUR.append(currencyconvert[\"GBP\"]*df['amount'][i])\n",
    "\n",
    "        if df['currencycode'][i] == \"SEK\":\n",
    "            amountEUR.append(currencyconvert[\"SEK\"]*df['amount'][i])\n",
    "            \n",
    "#add a new column 'amountEUR' and choose four columns as features, leave out all transactions of \"Refused\"\n",
    "    df['amountEUR']=amountEUR\n",
    "    df=df.loc[:,['amountEUR','bookingdate','simple_journal','cardverificationcodesupplied','cvcresponsecode']]\n",
    "    dfcs=df[(df['simple_journal']=='Chargeback') | (df['simple_journal']=='Settled')]\n",
    "\n",
    "\n",
    "#from datetime to date difference\n",
    "    dfcs=perday(dfcs,'bookingdate')\n",
    "    firstday=dfcs.loc[17903,'bookingdate']\n",
    "    dfcs['bookingdate'] = dfcs['bookingdate']-firstday\n",
    "    dfcs['bookingdate']=dfcs['bookingdate'] / np.timedelta64(1, 'D')\n",
    "\n",
    "    dfcs.loc[dfcs['cardverificationcodesupplied']==False,'cardverificationcodesupplied']=0.0\n",
    "    dfcs.loc[dfcs['cardverificationcodesupplied']==True,'cardverificationcodesupplied']=1.0\n",
    "    dfcs=dfcs[(dfcs['cardverificationcodesupplied']==0) | (dfcs['cardverificationcodesupplied']==1)]\n",
    "    dfcs.loc[:,'cardverificationcodesupplied']=pd.to_numeric(dfcs.loc[:,'cardverificationcodesupplied'])\n",
    "    \n",
    "    dfcs.loc[dfcs['simple_journal']=='Chargeback','simple_journal']=1.0\n",
    "    dfcs.loc[dfcs['simple_journal']=='Settled','simple_journal']=0.0\n",
    "    dfcs.loc[:,'simple_journal']=pd.to_numeric(dfcs.loc[:,'simple_journal'])\n",
    "\n",
    "    dfcs.loc[:,'cvcresponsecode']=pd.to_numeric(dfcs.loc[:,'cvcresponsecode'])\n",
    "    \n",
    "    \n",
    "\n",
    "\n",
    "    return dfcs"
   ]
  },
  {
   "cell_type": "code",
   "execution_count": 5,
   "metadata": {
    "collapsed": false,
    "scrolled": false
   },
   "outputs": [
    {
     "name": "stderr",
     "output_type": "stream",
     "text": [
      "/usr/local/lib/python3.5/site-packages/ipykernel/__main__.py:3: SettingWithCopyWarning: \n",
      "A value is trying to be set on a copy of a slice from a DataFrame.\n",
      "Try using .loc[row_indexer,col_indexer] = value instead\n",
      "\n",
      "See the caveats in the documentation: http://pandas.pydata.org/pandas-docs/stable/indexing.html#indexing-view-versus-copy\n",
      "  app.launch_new_instance()\n"
     ]
    }
   ],
   "source": [
    "## preprocessing the data, aggregate by day and currency convert,  \n",
    "## transfer the data structure to numeric, and select the relevant features prepare for classificaiton\n",
    "dfcs=transf(data)"
   ]
  },
  {
   "cell_type": "code",
   "execution_count": 6,
   "metadata": {
    "collapsed": false,
    "scrolled": true
   },
   "outputs": [
    {
     "data": {
      "text/plain": [
       "amountEUR                       float64\n",
       "bookingdate                     float64\n",
       "simple_journal                  float64\n",
       "cardverificationcodesupplied    float64\n",
       "cvcresponsecode                   int64\n",
       "dtype: object"
      ]
     },
     "execution_count": 6,
     "metadata": {},
     "output_type": "execute_result"
    }
   ],
   "source": [
    "## check the data type \n",
    "dfcs.dtypes"
   ]
  },
  {
   "cell_type": "code",
   "execution_count": 7,
   "metadata": {
    "collapsed": false
   },
   "outputs": [],
   "source": [
    "##-----seperate the data to features and labels\n",
    "dffeatures = dfcs[['amountEUR','bookingdate','cardverificationcodesupplied','cvcresponsecode']]\n",
    "labels = dfcs['simple_journal']\n"
   ]
  },
  {
   "cell_type": "code",
   "execution_count": 9,
   "metadata": {
    "collapsed": false
   },
   "outputs": [
    {
     "name": "stdout",
     "output_type": "stream",
     "text": [
      "TP: 20\n",
      "FP: 0\n",
      "FN: 60\n",
      "TN: 44689\n",
      "Original dataset shape Counter({0.0: 178808, 1.0: 265})\n",
      "Resampled dataset shape Counter({0.0: 178808, 1.0: 178808})\n",
      "TPSM: 61\n",
      "FPSM: 366\n",
      "FNSM: 19\n",
      "TNSM: 44323\n"
     ]
    },
    {
     "data": {
      "image/png": "[encoded data removed]",
      "text/plain": [
       "<matplotlib.figure.Figure at 0x117468d30>"
      ]
     },
     "metadata": {},
     "output_type": "display_data"
    }
   ],
   "source": [
    "from sklearn.model_selection import train_test_split\n",
    "from sklearn.neighbors import KNeighborsClassifier\n",
    "from sklearn import neighbors\n",
    "from sklearn import datasets, linear_model\n",
    "from sklearn import metrics\n",
    "from sklearn.metrics import roc_curve, auc\n",
    "from collections import Counter\n",
    "from imblearn.over_sampling import     SMOTE \n",
    "\n",
    "\n",
    "def classify(dffeatures,labels):\n",
    "    TP, FP, FN, TN = 0, 0, 0, 0\n",
    "    TPSM, FPSM, FNSM, TNSM = 0, 0, 0, 0\n",
    "    x_array = np.array(dffeatures)\n",
    "    y_array = np.array(labels)\n",
    "    usx = x_array\n",
    "    usy = y_array\n",
    "    x_train, x_test, y_train, y_test = train_test_split(usx, usy, test_size = 0.2)#test_size: proportion of train/test data\n",
    "  \n",
    "##-----UNSMOTED---------##\n",
    "\n",
    "# #--- classifier 1:  KNN ----------------#\n",
    "    clf = neighbors.KNeighborsClassifier(n_neighbors=3)\n",
    "    clf.fit(x_train, y_train)\n",
    "    y_predict = clf.predict(x_test)\n",
    "\n",
    "\n",
    "\n",
    "\n",
    "# #---classifier 2: Linear Regression-------#\n",
    "    # Create linear regression object\n",
    "#     regr = linear_model.LinearRegression()\n",
    "\n",
    "    # Train the model using the training sets\n",
    "#     regr.fit(x_train, y_train)\n",
    "#     y_predict = regr.predict(x_test)\n",
    "#     print(y_predict)\n",
    "\n",
    "#-------apply the threshold to classify the score to 2 classes (1/0)\n",
    "#     for j in range(len(y_predict)) :\n",
    "#         if y_predict[j] < 0.02:\n",
    "#             y_predict[j]=0\n",
    "#         else:\n",
    "#             y_predict[j]=1\n",
    "#     print(y_predict)\n",
    "#------------END of LR---------\n",
    "\n",
    "\n",
    "\n",
    "    for i in range(len(y_predict)):\n",
    "        if y_test[i]==1 and y_predict[i]==1:\n",
    "            TP += 1\n",
    "        if y_test[i]==0 and y_predict[i]==1:\n",
    "            FP += 1\n",
    "        if y_test[i]==1 and y_predict[i]==0:\n",
    "            FN += 1\n",
    "        if y_test[i]==0 and y_predict[i]==0:\n",
    "            TN += 1\n",
    "    print ('TP: '+ str(TP))\n",
    "    print ('FP: '+ str(FP))\n",
    "    print ('FN: '+ str(FN))\n",
    "    print ('TN: '+ str(TN))\n",
    "    fpr, tpr, thresholds = metrics.roc_curve(y_test, y_predict)\n",
    "    roc_auc = auc(fpr, tpr)\n",
    "\n",
    "#----------------------------------------------------------## \n",
    "        ## -----do SMOTE on training data here---------##\n",
    "    x_train, y_train = dosm(x_train, y_train)\n",
    "    \n",
    "    \n",
    "#--- classifier 1:  KNN --------\n",
    "    clfSM = neighbors.KNeighborsClassifier(n_neighbors=3)\n",
    "    clfSM.fit(x_train, y_train)\n",
    "    y_predictSM = clfSM.predict(x_test)\n",
    "#------classifer 2: Linear Regression--------\n",
    "#     regrSM = linear_model.LinearRegression()\n",
    "\n",
    "    # Train the model using the training sets\n",
    "#     regrSM.fit(x_train, y_train)\n",
    "#     y_predictSM = regrSM.predict(x_test)\n",
    "# #     print(y_predict)\n",
    "\n",
    "#-------apply the threshold to classify the score to 2 classes (1/0)\n",
    "#     for j in range(len(y_predictSM)) :\n",
    "#         if y_predictSM[j] < 0.8:\n",
    "#             y_predictSM[j]=0\n",
    "#         else:\n",
    "#             y_predictSM[j]=1\n",
    "#     print(y_predict)\n",
    "#------------END of LR---------\n",
    "\n",
    "    for i in range(len(y_predictSM)):\n",
    "        if y_test[i]==1 and y_predictSM[i]==1:\n",
    "            TPSM += 1\n",
    "        if y_test[i]==0 and y_predictSM[i]==1:\n",
    "            FPSM += 1\n",
    "        if y_test[i]==1 and y_predictSM[i]==0:\n",
    "            FNSM += 1\n",
    "        if y_test[i]==0 and y_predictSM[i]==0:\n",
    "            TNSM += 1\n",
    "    print ('TPSM: '+ str(TPSM))\n",
    "    print ('FPSM: '+ str(FPSM))\n",
    "    print ('FNSM: '+ str(FNSM))\n",
    "    print ('TNSM: '+ str(TNSM))\n",
    "    fprSM, tprSM, thresholdsSM = metrics.roc_curve(y_test, y_predictSM)\n",
    "    roc_aucSM = auc(fprSM, tprSM)\n",
    "    \n",
    "    plt.figure()\n",
    "    lw = 2\n",
    "    plt.plot(fpr, tpr, color='darkgreen',\n",
    "             lw=lw, label='ROC curve (area = %0.2f)' % roc_auc)\n",
    "    plt.plot(fprSM, tprSM, color='darkorange',\n",
    "             lw=lw, label='ROC curve SM (area = %0.2f)' % roc_aucSM)\n",
    "    plt.plot([0, 1], [0, 1], color='navy', lw=lw, linestyle='--')\n",
    "    plt.xlim([0.0, 1.0])\n",
    "    plt.ylim([0.0, 1.05])\n",
    "    plt.xlabel('False Positive Rate')\n",
    "    plt.ylabel('True Positive Rate')\n",
    "    plt.title('ROC curve for KNN')\n",
    "    plt.legend(loc=\"lower right\")\n",
    "    plt.savefig('ROC-KNN', ext='png', dpi=150)\n",
    "    plt.show()\n",
    "    \n",
    "    return\n",
    "\n",
    "def dosm(x_train, y_train):\n",
    "    print('Original dataset shape {}'.format(Counter(y_train)))\n",
    "    sm = SMOTE()\n",
    "    X_res, y_res = sm.fit_sample(x_train, y_train)\n",
    "    print('Resampled dataset shape {}'.format(Counter(y_res)))\n",
    "    x_train = X_res\n",
    "    y_train = y_res\n",
    "    return x_train, y_train\n",
    "\n",
    "classify(dffeatures,labels)\n",
    "\n",
    "# print (confusion_matrix(y_test, answear))\n",
    "#watch out the element in confusion matrix\n",
    "# precision, recall, thresholds = precision_recall_curve(y_test, y_predict)\n",
    "# predict_proba = clf.predict_proba(x_test)#the probability of each smple labelled to positive or negative\n",
    "\n"
   ]
  }
 ],
 "metadata": {
  "kernelspec": {
   "display_name": "Python 3",
   "language": "python",
   "name": "python3"
  },
  "language_info": {
   "codemirror_mode": {
    "name": "ipython",
    "version": 3
   },
   "file_extension": ".py",
   "mimetype": "text/x-python",
   "name": "python",
   "nbconvert_exporter": "python",
   "pygments_lexer": "ipython3",
   "version": "3.5.2"
  }
 },
 "nbformat": 4,
 "nbformat_minor": 2
}
