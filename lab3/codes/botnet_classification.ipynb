{
 "cells": [
  {
   "cell_type": "markdown",
   "metadata": {},
   "source": [
    "## Task 3: Botnet Classification\n",
    "#### For this task, we use the CTU-13 data , containing NetFlows from 13 scenarios of both benign and infected hosts, build classifier for detecting anomalous behaviour based on paper by Garcia, Sebastian, et al."
   ]
  },
  {
   "cell_type": "code",
   "execution_count": 1,
   "metadata": {
    "collapsed": false,
    "scrolled": false
   },
   "outputs": [
    {
     "data": {
      "text/html": [
       "<div>\n",
       "<table border=\"1\" class=\"dataframe\">\n",
       "  <thead>\n",
       "    <tr style=\"text-align: right;\">\n",
       "      <th></th>\n",
       "      <th>StartTime</th>\n",
       "      <th>Dur</th>\n",
       "      <th>Proto</th>\n",
       "      <th>SrcAddr</th>\n",
       "      <th>Sport</th>\n",
       "      <th>Dir</th>\n",
       "      <th>DstAddr</th>\n",
       "      <th>Dport</th>\n",
       "      <th>State</th>\n",
       "      <th>sTos</th>\n",
       "      <th>dTos</th>\n",
       "      <th>TotPkts</th>\n",
       "      <th>TotBytes</th>\n",
       "      <th>SrcBytes</th>\n",
       "      <th>Label</th>\n",
       "    </tr>\n",
       "  </thead>\n",
       "  <tbody>\n",
       "    <tr>\n",
       "      <th>0</th>\n",
       "      <td>2011/08/10 09:46:59.607825</td>\n",
       "      <td>1.026539</td>\n",
       "      <td>tcp</td>\n",
       "      <td>94.44.127.113</td>\n",
       "      <td>1577</td>\n",
       "      <td>-&gt;</td>\n",
       "      <td>147.32.84.59</td>\n",
       "      <td>6881</td>\n",
       "      <td>S_RA</td>\n",
       "      <td>0.0</td>\n",
       "      <td>0.0</td>\n",
       "      <td>4</td>\n",
       "      <td>276</td>\n",
       "      <td>156</td>\n",
       "      <td>flow=Background-Established-cmpgw-CVUT</td>\n",
       "    </tr>\n",
       "    <tr>\n",
       "      <th>1</th>\n",
       "      <td>2011/08/10 09:47:00.634364</td>\n",
       "      <td>1.009595</td>\n",
       "      <td>tcp</td>\n",
       "      <td>94.44.127.113</td>\n",
       "      <td>1577</td>\n",
       "      <td>-&gt;</td>\n",
       "      <td>147.32.84.59</td>\n",
       "      <td>6881</td>\n",
       "      <td>S_RA</td>\n",
       "      <td>0.0</td>\n",
       "      <td>0.0</td>\n",
       "      <td>4</td>\n",
       "      <td>276</td>\n",
       "      <td>156</td>\n",
       "      <td>flow=Background-Established-cmpgw-CVUT</td>\n",
       "    </tr>\n",
       "    <tr>\n",
       "      <th>2</th>\n",
       "      <td>2011/08/10 09:47:48.185538</td>\n",
       "      <td>3.056586</td>\n",
       "      <td>tcp</td>\n",
       "      <td>147.32.86.89</td>\n",
       "      <td>4768</td>\n",
       "      <td>-&gt;</td>\n",
       "      <td>77.75.73.33</td>\n",
       "      <td>80</td>\n",
       "      <td>SR_A</td>\n",
       "      <td>0.0</td>\n",
       "      <td>0.0</td>\n",
       "      <td>3</td>\n",
       "      <td>182</td>\n",
       "      <td>122</td>\n",
       "      <td>flow=Background-TCP-Attempt</td>\n",
       "    </tr>\n",
       "    <tr>\n",
       "      <th>3</th>\n",
       "      <td>2011/08/10 09:47:48.230897</td>\n",
       "      <td>3.111769</td>\n",
       "      <td>tcp</td>\n",
       "      <td>147.32.86.89</td>\n",
       "      <td>4788</td>\n",
       "      <td>-&gt;</td>\n",
       "      <td>77.75.73.33</td>\n",
       "      <td>80</td>\n",
       "      <td>SR_A</td>\n",
       "      <td>0.0</td>\n",
       "      <td>0.0</td>\n",
       "      <td>3</td>\n",
       "      <td>182</td>\n",
       "      <td>122</td>\n",
       "      <td>flow=Background-TCP-Attempt</td>\n",
       "    </tr>\n",
       "    <tr>\n",
       "      <th>4</th>\n",
       "      <td>2011/08/10 09:47:48.963351</td>\n",
       "      <td>3.083411</td>\n",
       "      <td>tcp</td>\n",
       "      <td>147.32.86.89</td>\n",
       "      <td>4850</td>\n",
       "      <td>-&gt;</td>\n",
       "      <td>77.75.73.33</td>\n",
       "      <td>80</td>\n",
       "      <td>SR_A</td>\n",
       "      <td>0.0</td>\n",
       "      <td>0.0</td>\n",
       "      <td>3</td>\n",
       "      <td>182</td>\n",
       "      <td>122</td>\n",
       "      <td>flow=Background-TCP-Attempt</td>\n",
       "    </tr>\n",
       "  </tbody>\n",
       "</table>\n",
       "</div>"
      ],
      "text/plain": [
       "                    StartTime       Dur Proto        SrcAddr Sport    Dir  \\\n",
       "0  2011/08/10 09:46:59.607825  1.026539   tcp  94.44.127.113  1577     ->   \n",
       "1  2011/08/10 09:47:00.634364  1.009595   tcp  94.44.127.113  1577     ->   \n",
       "2  2011/08/10 09:47:48.185538  3.056586   tcp   147.32.86.89  4768     ->   \n",
       "3  2011/08/10 09:47:48.230897  3.111769   tcp   147.32.86.89  4788     ->   \n",
       "4  2011/08/10 09:47:48.963351  3.083411   tcp   147.32.86.89  4850     ->   \n",
       "\n",
       "        DstAddr Dport State  sTos  dTos  TotPkts  TotBytes  SrcBytes  \\\n",
       "0  147.32.84.59  6881  S_RA   0.0   0.0        4       276       156   \n",
       "1  147.32.84.59  6881  S_RA   0.0   0.0        4       276       156   \n",
       "2   77.75.73.33    80  SR_A   0.0   0.0        3       182       122   \n",
       "3   77.75.73.33    80  SR_A   0.0   0.0        3       182       122   \n",
       "4   77.75.73.33    80  SR_A   0.0   0.0        3       182       122   \n",
       "\n",
       "                                    Label  \n",
       "0  flow=Background-Established-cmpgw-CVUT  \n",
       "1  flow=Background-Established-cmpgw-CVUT  \n",
       "2             flow=Background-TCP-Attempt  \n",
       "3             flow=Background-TCP-Attempt  \n",
       "4             flow=Background-TCP-Attempt  "
      ]
     },
     "execution_count": 1,
     "metadata": {},
     "output_type": "execute_result"
    }
   ],
   "source": [
    "import pandas as pd\n",
    "df = pd.read_csv('capture20110810.binetflow')\n",
    "df.head(5)"
   ]
  },
  {
   "cell_type": "code",
   "execution_count": 2,
   "metadata": {
    "collapsed": false
   },
   "outputs": [
    {
     "data": {
      "text/plain": [
       "flow=Background-UDP-Established                                            1169677\n",
       "flow=To-Background-UDP-CVUT-DNS-Server                                      941706\n",
       "flow=Background-TCP-Established                                             223543\n",
       "flow=Background-Established-cmpgw-CVUT                                      137257\n",
       "flow=Background-TCP-Attempt                                                 105438\n",
       "flow=Background-UDP-Attempt                                                  66699\n",
       "flow=Background                                                              40216\n",
       "flow=Background-Attempt-cmpgw-CVUT                                           30983\n",
       "flow=From-Botnet-V42-UDP-DNS                                                 26140\n",
       "flow=To-Background-CVUT-Proxy                                                19542\n",
       "flow=From-Normal-V42-Stribrek                                                18438\n",
       "flow=From-Botnet-V42-TCP-Attempt-SPAM                                         8105\n",
       "flow=From-Normal-V42-Grill                                                    7654\n",
       "flow=From-Normal-V42-Jist                                                     3808\n",
       "flow=From-Botnet-V42-UDP-Attempt-DNS                                          3057\n",
       "flow=To-Background-CVUT-WebServer                                             2587\n",
       "flow=Background-UDP-NTP-Established-1                                         2233\n",
       "flow=From-Botnet-V42-TCP-Attempt                                              1881\n",
       "flow=Background-ajax.google                                                   1197\n",
       "flow=To-Background-MatLab-Server                                               833\n",
       "flow=Background-google-analytics10                                             732\n",
       "flow=Background-google-analytics8                                              630\n",
       "flow=Background-google-analytics6                                              628\n",
       "flow=Background-google-analytics7                                              624\n",
       "flow=Background-google-analytics16                                             599\n",
       "flow=Background-google-analytics13                                             595\n",
       "flow=Background-google-analytics3                                              579\n",
       "flow=Background-google-analytics4                                              569\n",
       "flow=Background-google-analytics9                                              561\n",
       "flow=Background-google-webmail                                                 560\n",
       "                                                                            ...   \n",
       "flow=From-Botnet-V42-TCP-Established-HTTP-Binary-Download-3                      6\n",
       "flow=From-Normal-V42-MatLab-Server                                               6\n",
       "flow=From-Botnet-V42-UDP-Established                                             6\n",
       "flow=From-Botnet-V42-TCP-Established-HTTP-Ad-6                                   6\n",
       "flow=From-Botnet-V42-TCP-Established-Custom-Encryption-3                         5\n",
       "flow=From-Botnet-V42-TCP-Established-Custom-Encryption-2                         5\n",
       "flow=From-Botnet-V42-TCP-Established-HTTP-Ad-52                                  4\n",
       "flow=From-Botnet-V42-TCP-Established-HTTP-Ad-59                                  4\n",
       "flow=From-Botnet-V42-TCP-Established-HTTP-Ad-12                                  4\n",
       "flow=From-Botnet-V42-TCP-Established-HTTP-Ad-51                                  4\n",
       "flow=From-Botnet-V42-TCP-Established-HTTP-Ad-50                                  4\n",
       "flow=From-Botnet-V42-TCP-Established-HTTP-Ad-42                                  3\n",
       "flow=From-Botnet-V42-TCP-Established-HTTP-Ad-47                                  3\n",
       "flow=From-Botnet-V42-TCP-Established-HTTP-Ad-33                                  3\n",
       "flow=From-Botnet-V42-TCP-Established-HTTP-Ad-57                                  3\n",
       "flow=From-Botnet-V42-TCP-Established-HTTP-Binary-Download-1                      3\n",
       "flow=From-Botnet-V42-TCP-Established-HTTP-Ad-5                                   3\n",
       "flow=From-Botnet-V42-TCP-Established-HTTP-Ad-53                                  3\n",
       "flow=From-Botnet-V42-TCP-Established-HTTP-Ad-28                                  3\n",
       "flow=From-Botnet-V42-ICMP                                                        2\n",
       "flow=From-Botnet-V42-TCP-Established-HTTP-Ad-64                                  2\n",
       "flow=From-Botnet-V42-TCP-Established-HTTP-Binary-Download-Custom-Port-4          2\n",
       "flow=From-Botnet-V42-TCP-Established-HTTP-Binary-Download-9                      2\n",
       "flow=From-Botnet-V42-TCP-Established-HTTP-Ad-34                                  2\n",
       "flow=From-Botnet-V42-TCP-Established-HTTP-Binary-Download-Custom-Port-7          2\n",
       "flow=From-Botnet-V42-TCP-Established-HTTP-Ad-60                                  1\n",
       "flow=From-Botnet-V42-TCP-Established-HTTP-Binary-Download-Custom-Port-5          1\n",
       "flow=From-Botnet-V42-TCP-HTTP-Not-Encrypted-Down-2                               1\n",
       "flow=From-Botnet-V42-TCP-Established-HTTP-Ad-49                                  1\n",
       "flow=From-Botnet-V42-TCP-Established-HTTP-Adobe-4                                1\n",
       "Name: Label, dtype: int64"
      ]
     },
     "execution_count": 2,
     "metadata": {},
     "output_type": "execute_result"
    }
   ],
   "source": [
    "df['Label'].value_counts()"
   ]
  },
  {
   "cell_type": "code",
   "execution_count": 3,
   "metadata": {
    "collapsed": false
   },
   "outputs": [
    {
     "data": {
      "text/plain": [
       "(2824636, 15)"
      ]
     },
     "execution_count": 3,
     "metadata": {},
     "output_type": "execute_result"
    }
   ],
   "source": [
    "df.shape"
   ]
  },
  {
   "cell_type": "markdown",
   "metadata": {},
   "source": [
    "###  About the label of flows\n",
    "Sicco: Please note that the labels of the flows generated by the malware start with “From-Botnet”. The labels “To-Botnet” are flows sent to the botnet by unknown computers, so they should not be considered malicious perse. Also for the normal computers, the counts are for the labels “From-Normal”. The labels “To-Normal” are flows sent to the botnet by unknown computers, so they should not be considered malicious perse.”\n",
    "You should filter the data to from-botnet and from-normal, we don't know whether the connections to the botnet/normal hosts are malicious or not"
   ]
  },
  {
   "cell_type": "code",
   "execution_count": 4,
   "metadata": {
    "collapsed": false,
    "scrolled": true
   },
   "outputs": [
    {
     "data": {
      "text/html": [
       "<div>\n",
       "<table border=\"1\" class=\"dataframe\">\n",
       "  <thead>\n",
       "    <tr style=\"text-align: right;\">\n",
       "      <th></th>\n",
       "      <th>StartTime</th>\n",
       "      <th>Dur</th>\n",
       "      <th>Proto</th>\n",
       "      <th>SrcAddr</th>\n",
       "      <th>Sport</th>\n",
       "      <th>Dir</th>\n",
       "      <th>DstAddr</th>\n",
       "      <th>Dport</th>\n",
       "      <th>State</th>\n",
       "      <th>sTos</th>\n",
       "      <th>dTos</th>\n",
       "      <th>TotPkts</th>\n",
       "      <th>TotBytes</th>\n",
       "      <th>SrcBytes</th>\n",
       "      <th>Label</th>\n",
       "    </tr>\n",
       "  </thead>\n",
       "  <tbody>\n",
       "    <tr>\n",
       "      <th>150</th>\n",
       "      <td>2011/08/10 09:46:53.160043</td>\n",
       "      <td>0.0</td>\n",
       "      <td>udp</td>\n",
       "      <td>147.32.80.9</td>\n",
       "      <td>53</td>\n",
       "      <td>-&gt;</td>\n",
       "      <td>147.32.86.111</td>\n",
       "      <td>54230</td>\n",
       "      <td>INT</td>\n",
       "      <td>0.0</td>\n",
       "      <td>NaN</td>\n",
       "      <td>1</td>\n",
       "      <td>141</td>\n",
       "      <td>141</td>\n",
       "      <td>flow=From-Normal-V42-UDP-CVUT-DNS-Server</td>\n",
       "    </tr>\n",
       "  </tbody>\n",
       "</table>\n",
       "</div>"
      ],
      "text/plain": [
       "                      StartTime  Dur Proto      SrcAddr Sport    Dir  \\\n",
       "150  2011/08/10 09:46:53.160043  0.0   udp  147.32.80.9    53     ->   \n",
       "\n",
       "           DstAddr  Dport State  sTos  dTos  TotPkts  TotBytes  SrcBytes  \\\n",
       "150  147.32.86.111  54230   INT   0.0   NaN        1       141       141   \n",
       "\n",
       "                                        Label  \n",
       "150  flow=From-Normal-V42-UDP-CVUT-DNS-Server  "
      ]
     },
     "execution_count": 4,
     "metadata": {},
     "output_type": "execute_result"
    }
   ],
   "source": [
    "# drop out the rows labeled with \"Background\"\n",
    "df2 = df[df['Label'].str.contains(\"Background\")==False]\n",
    "# drop out the rows labeled with \"To-Normal\"\"To-Botnet\"\n",
    "df3 = df2[df2['Label'].str.contains(\"To\")==False]\n",
    "\n",
    "df3[:1]"
   ]
  },
  {
   "cell_type": "code",
   "execution_count": 5,
   "metadata": {
    "collapsed": false,
    "scrolled": true
   },
   "outputs": [
    {
     "name": "stderr",
     "output_type": "stream",
     "text": [
      "/usr/local/lib/python3.5/site-packages/pandas/core/indexing.py:296: SettingWithCopyWarning: \n",
      "A value is trying to be set on a copy of a slice from a DataFrame.\n",
      "Try using .loc[row_indexer,col_indexer] = value instead\n",
      "\n",
      "See the caveats in the documentation: http://pandas.pydata.org/pandas-docs/stable/indexing.html#indexing-view-versus-copy\n",
      "  self.obj[key] = _infer_fill_value(value)\n",
      "/usr/local/lib/python3.5/site-packages/pandas/core/indexing.py:476: SettingWithCopyWarning: \n",
      "A value is trying to be set on a copy of a slice from a DataFrame.\n",
      "Try using .loc[row_indexer,col_indexer] = value instead\n",
      "\n",
      "See the caveats in the documentation: http://pandas.pydata.org/pandas-docs/stable/indexing.html#indexing-view-versus-copy\n",
      "  self.obj[item] = s\n"
     ]
    },
    {
     "data": {
      "text/html": [
       "<div>\n",
       "<table border=\"1\" class=\"dataframe\">\n",
       "  <thead>\n",
       "    <tr style=\"text-align: right;\">\n",
       "      <th></th>\n",
       "      <th>StartTime</th>\n",
       "      <th>Dur</th>\n",
       "      <th>Proto</th>\n",
       "      <th>SrcAddr</th>\n",
       "      <th>Sport</th>\n",
       "      <th>Dir</th>\n",
       "      <th>DstAddr</th>\n",
       "      <th>Dport</th>\n",
       "      <th>State</th>\n",
       "      <th>sTos</th>\n",
       "      <th>dTos</th>\n",
       "      <th>TotPkts</th>\n",
       "      <th>TotBytes</th>\n",
       "      <th>SrcBytes</th>\n",
       "      <th>Label</th>\n",
       "      <th>biLabel</th>\n",
       "    </tr>\n",
       "  </thead>\n",
       "  <tbody>\n",
       "    <tr>\n",
       "      <th>150</th>\n",
       "      <td>2011/08/10 09:46:53.160043</td>\n",
       "      <td>0.0</td>\n",
       "      <td>udp</td>\n",
       "      <td>147.32.80.9</td>\n",
       "      <td>53</td>\n",
       "      <td>-&gt;</td>\n",
       "      <td>147.32.86.111</td>\n",
       "      <td>54230</td>\n",
       "      <td>INT</td>\n",
       "      <td>0.0</td>\n",
       "      <td>NaN</td>\n",
       "      <td>1</td>\n",
       "      <td>141</td>\n",
       "      <td>141</td>\n",
       "      <td>flow=From-Normal-V42-UDP-CVUT-DNS-Server</td>\n",
       "      <td>0</td>\n",
       "    </tr>\n",
       "  </tbody>\n",
       "</table>\n",
       "</div>"
      ],
      "text/plain": [
       "                      StartTime  Dur Proto      SrcAddr Sport    Dir  \\\n",
       "150  2011/08/10 09:46:53.160043  0.0   udp  147.32.80.9    53     ->   \n",
       "\n",
       "           DstAddr  Dport State  sTos  dTos  TotPkts  TotBytes  SrcBytes  \\\n",
       "150  147.32.86.111  54230   INT   0.0   NaN        1       141       141   \n",
       "\n",
       "                                        Label biLabel  \n",
       "150  flow=From-Normal-V42-UDP-CVUT-DNS-Server       0  "
      ]
     },
     "execution_count": 5,
     "metadata": {},
     "output_type": "execute_result"
    }
   ],
   "source": [
    "# replace the labels to binary value: Botnet --> 1, Normal --> 0\n",
    "df3.loc[df3['Label'].str.contains(\"Botnet\"), 'biLabel'] = '1'\n",
    "df3.loc[df3['Label'].str.contains(\"Normal\"), 'biLabel'] = '0'\n",
    "df3[:1]"
   ]
  },
  {
   "cell_type": "code",
   "execution_count": 6,
   "metadata": {
    "collapsed": false
   },
   "outputs": [
    {
     "data": {
      "text/plain": [
       "1    40948\n",
       "0    30267\n",
       "Name: biLabel, dtype: int64"
      ]
     },
     "execution_count": 6,
     "metadata": {},
     "output_type": "execute_result"
    }
   ],
   "source": [
    "df3['biLabel'].value_counts()"
   ]
  },
  {
   "cell_type": "code",
   "execution_count": 7,
   "metadata": {
    "collapsed": false
   },
   "outputs": [
    {
     "data": {
      "text/plain": [
       "udp     50080\n",
       "tcp     21085\n",
       "icmp       37\n",
       "arp        13\n",
       "Name: Proto, dtype: int64"
      ]
     },
     "execution_count": 7,
     "metadata": {},
     "output_type": "execute_result"
    }
   ],
   "source": [
    "df3['Proto'].value_counts()"
   ]
  },
  {
   "cell_type": "code",
   "execution_count": 8,
   "metadata": {
    "collapsed": true
   },
   "outputs": [
    {
     "data": {
      "text/plain": [
       "CON           46946\n",
       "S_             9802\n",
       "FSPA_FSPA      5585\n",
       "FSA_FSA        3204\n",
       "INT            3142\n",
       "FSPA_FSRPA      462\n",
       "SRPA_FSPA       457\n",
       "SRPA_SPA        323\n",
       "S_RA            200\n",
       "FSRPA_FSPA      192\n",
       "SPA_SRPA        143\n",
       "FSRA_FSPA        91\n",
       "FSA_SRA          85\n",
       "PA_PA            63\n",
       "SA_SRA           57\n",
       "SRA_FSPA         56\n",
       "SPA_SPA          51\n",
       "SPA_SRA          48\n",
       "URP              37\n",
       "FSPA_FSA         33\n",
       "SRA_SA           29\n",
       "FSRPA_SPA        27\n",
       "FSPA_FSRA        18\n",
       "SPA_FSRPA        18\n",
       "FSRPA_SRPA       17\n",
       "FSRPA_SA         16\n",
       "FSA_FSRA         15\n",
       "RA_              11\n",
       "PA_A             10\n",
       "SPA_FSPA         10\n",
       "SRPA_SA           8\n",
       "FPA_FPA           6\n",
       "RSP               5\n",
       "S_FRA             5\n",
       "FSRA_FSA          4\n",
       "SR_SA             4\n",
       "S_R               3\n",
       "FSRA_SPA          3\n",
       "FSPA_SRPA         3\n",
       "PA_RPA            3\n",
       "SA_               3\n",
       "RPA_FRPA          2\n",
       "FA_FA             2\n",
       "SRA_SPA           1\n",
       "A_PA              1\n",
       "FSPA_SA           1\n",
       "PA_FPA            1\n",
       "FPA_RPA           1\n",
       "FSA_SA            1\n",
       "FPA_FA            1\n",
       "FA_               1\n",
       "PA_RA             1\n",
       "FSPA_SRA          1\n",
       "SPA_SA            1\n",
       "SRPA_SRPA         1\n",
       "FSA_FPA           1\n",
       "SA_SPA            1\n",
       "FA_FRA            1\n",
       "SRA_SRA           1\n",
       "Name: State, dtype: int64"
      ]
     },
     "execution_count": 8,
     "metadata": {},
     "output_type": "execute_result"
    }
   ],
   "source": [
    "df3['State'].value_counts()"
   ]
  },
  {
   "cell_type": "code",
   "execution_count": 9,
   "metadata": {
    "collapsed": false
   },
   "outputs": [
    {
     "data": {
      "text/plain": [
       "0.0    58205\n",
       "2.0        2\n",
       "Name: dTos, dtype: int64"
      ]
     },
     "execution_count": 9,
     "metadata": {},
     "output_type": "execute_result"
    }
   ],
   "source": [
    "df3['dTos'].value_counts()"
   ]
  },
  {
   "cell_type": "code",
   "execution_count": 10,
   "metadata": {
    "collapsed": false
   },
   "outputs": [
    {
     "data": {
      "text/plain": [
       "147.32.84.165    40948\n",
       "147.32.84.170    18438\n",
       "147.32.84.164     7654\n",
       "147.32.84.134     3808\n",
       "147.32.87.36       269\n",
       "147.32.80.9         83\n",
       "147.32.87.11         6\n",
       "147.32.86.187        4\n",
       "147.32.87.252        3\n",
       "147.32.86.140        1\n",
       "147.32.86.111        1\n",
       "Name: SrcAddr, dtype: int64"
      ]
     },
     "execution_count": 10,
     "metadata": {},
     "output_type": "execute_result"
    }
   ],
   "source": [
    "df3['SrcAddr'].value_counts()"
   ]
  },
  {
   "cell_type": "code",
   "execution_count": 11,
   "metadata": {
    "collapsed": false,
    "scrolled": true
   },
   "outputs": [
    {
     "data": {
      "text/plain": [
       "  <->    46938\n",
       "   ->    24200\n",
       "  <?>       52\n",
       "  who       13\n",
       "   ?>       12\n",
       "Name: Dir, dtype: int64"
      ]
     },
     "execution_count": 11,
     "metadata": {},
     "output_type": "execute_result"
    }
   ],
   "source": [
    "df3['Dir'].value_counts()"
   ]
  },
  {
   "cell_type": "markdown",
   "metadata": {},
   "source": [
    "## Now, do pre-processing on the data to prepare for classification."
   ]
  },
  {
   "cell_type": "code",
   "execution_count": 12,
   "metadata": {
    "collapsed": false
   },
   "outputs": [
    {
     "data": {
      "text/plain": [
       "StartTime        0\n",
       "Dur              0\n",
       "Proto            0\n",
       "SrcAddr          0\n",
       "Sport           13\n",
       "Dir              0\n",
       "DstAddr          0\n",
       "Dport           13\n",
       "State            0\n",
       "sTos            13\n",
       "dTos         13008\n",
       "TotPkts          0\n",
       "TotBytes         0\n",
       "SrcBytes         0\n",
       "Label            0\n",
       "biLabel          0\n",
       "dtype: int64"
      ]
     },
     "execution_count": 12,
     "metadata": {},
     "output_type": "execute_result"
    }
   ],
   "source": [
    "df3.isnull().sum()"
   ]
  },
  {
   "cell_type": "markdown",
   "metadata": {},
   "source": [
    "### We drop the rows with small number of NAN, and drop the column 'dTos' when doing classificaiton since there are too many NaN value. Also we leave out some other columns with irrelevant features."
   ]
  },
  {
   "cell_type": "code",
   "execution_count": 13,
   "metadata": {
    "collapsed": false
   },
   "outputs": [
    {
     "name": "stderr",
     "output_type": "stream",
     "text": [
      "/usr/local/lib/python3.5/site-packages/ipykernel/__main__.py:1: SettingWithCopyWarning: \n",
      "A value is trying to be set on a copy of a slice from a DataFrame\n",
      "\n",
      "See the caveats in the documentation: http://pandas.pydata.org/pandas-docs/stable/indexing.html#indexing-view-versus-copy\n",
      "  if __name__ == '__main__':\n",
      "/usr/local/lib/python3.5/site-packages/ipykernel/__main__.py:2: SettingWithCopyWarning: \n",
      "A value is trying to be set on a copy of a slice from a DataFrame\n",
      "\n",
      "See the caveats in the documentation: http://pandas.pydata.org/pandas-docs/stable/indexing.html#indexing-view-versus-copy\n",
      "  from ipykernel import kernelapp as app\n",
      "/usr/local/lib/python3.5/site-packages/ipykernel/__main__.py:3: SettingWithCopyWarning: \n",
      "A value is trying to be set on a copy of a slice from a DataFrame\n",
      "\n",
      "See the caveats in the documentation: http://pandas.pydata.org/pandas-docs/stable/indexing.html#indexing-view-versus-copy\n",
      "  app.launch_new_instance()\n",
      "/usr/local/lib/python3.5/site-packages/ipykernel/__main__.py:5: SettingWithCopyWarning: \n",
      "A value is trying to be set on a copy of a slice from a DataFrame\n",
      "\n",
      "See the caveats in the documentation: http://pandas.pydata.org/pandas-docs/stable/indexing.html#indexing-view-versus-copy\n",
      "/usr/local/lib/python3.5/site-packages/ipykernel/__main__.py:6: SettingWithCopyWarning: \n",
      "A value is trying to be set on a copy of a slice from a DataFrame\n",
      "\n",
      "See the caveats in the documentation: http://pandas.pydata.org/pandas-docs/stable/indexing.html#indexing-view-versus-copy\n"
     ]
    },
    {
     "data": {
      "text/html": [
       "<div>\n",
       "<table border=\"1\" class=\"dataframe\">\n",
       "  <thead>\n",
       "    <tr style=\"text-align: right;\">\n",
       "      <th></th>\n",
       "      <th>Dur</th>\n",
       "      <th>Proto</th>\n",
       "      <th>SrcAddr</th>\n",
       "      <th>Sport</th>\n",
       "      <th>Dir</th>\n",
       "      <th>Dport</th>\n",
       "      <th>State</th>\n",
       "      <th>sTos</th>\n",
       "      <th>TotPkts</th>\n",
       "      <th>TotBytes</th>\n",
       "      <th>SrcBytes</th>\n",
       "      <th>biLabel</th>\n",
       "    </tr>\n",
       "  </thead>\n",
       "  <tbody>\n",
       "    <tr>\n",
       "      <th>150</th>\n",
       "      <td>0.0</td>\n",
       "      <td>udp</td>\n",
       "      <td>147.32.80.9</td>\n",
       "      <td>53</td>\n",
       "      <td>-&gt;</td>\n",
       "      <td>54230</td>\n",
       "      <td>INT</td>\n",
       "      <td>0.0</td>\n",
       "      <td>1</td>\n",
       "      <td>141</td>\n",
       "      <td>141</td>\n",
       "      <td>0</td>\n",
       "    </tr>\n",
       "  </tbody>\n",
       "</table>\n",
       "</div>"
      ],
      "text/plain": [
       "     Dur Proto      SrcAddr Sport    Dir  Dport State  sTos  TotPkts  \\\n",
       "150  0.0   udp  147.32.80.9    53     ->  54230   INT   0.0        1   \n",
       "\n",
       "     TotBytes  SrcBytes biLabel  \n",
       "150       141       141       0  "
      ]
     },
     "execution_count": 13,
     "metadata": {},
     "output_type": "execute_result"
    }
   ],
   "source": [
    "df3.drop('dTos',axis=1,inplace=True)\n",
    "df3.drop('Label',axis=1,inplace=True)\n",
    "df3.drop('StartTime',axis=1,inplace=True)\n",
    "# df3.drop('SrcAddr',axis=1,inplace=True)\n",
    "df3.drop('DstAddr',axis=1,inplace=True)\n",
    "df3.dropna(inplace=True)\n",
    "df3[:1]\n"
   ]
  },
  {
   "cell_type": "code",
   "execution_count": 14,
   "metadata": {
    "collapsed": false
   },
   "outputs": [
    {
     "data": {
      "text/plain": [
       "(71202, 12)"
      ]
     },
     "execution_count": 14,
     "metadata": {},
     "output_type": "execute_result"
    }
   ],
   "source": [
    "df3.shape"
   ]
  },
  {
   "cell_type": "code",
   "execution_count": 15,
   "metadata": {
    "collapsed": false
   },
   "outputs": [
    {
     "name": "stderr",
     "output_type": "stream",
     "text": [
      "/usr/local/lib/python3.5/site-packages/pandas/core/generic.py:3547: SettingWithCopyWarning: \n",
      "A value is trying to be set on a copy of a slice from a DataFrame\n",
      "\n",
      "See the caveats in the documentation: http://pandas.pydata.org/pandas-docs/stable/indexing.html#indexing-view-versus-copy\n",
      "  self._update_inplace(new_data)\n"
     ]
    },
    {
     "data": {
      "text/plain": [
       "{'147.32.80.9': 0,\n",
       " '147.32.84.134': 1,\n",
       " '147.32.84.164': 2,\n",
       " '147.32.84.165': 9,\n",
       " '147.32.84.170': 3,\n",
       " '147.32.86.111': 5,\n",
       " '147.32.86.140': 6,\n",
       " '147.32.86.187': 7,\n",
       " '147.32.87.11': 10,\n",
       " '147.32.87.252': 8,\n",
       " '147.32.87.36': 4}"
      ]
     },
     "execution_count": 15,
     "metadata": {},
     "output_type": "execute_result"
    }
   ],
   "source": [
    "# source IP convertion dic\n",
    "dic = {}\n",
    "srcIP = df3['SrcAddr'].unique()\n",
    "for idx,ip in enumerate(srcIP):\n",
    "    dic[ip] = idx\n",
    "df3[\"SrcAddr\"].replace(dic, inplace=True)\n",
    "\n",
    "dic_inverse = { k:v for v, k in dic.items() }\n",
    "dic\n",
    "# dic_inverse"
   ]
  },
  {
   "cell_type": "markdown",
   "metadata": {},
   "source": [
    "#### Categorical features have to be mapped either using a numerical mapping or one-hot encoding. The latter is preferred in general because it doesn't create artificial \"neighbours\" caused by the numerical indexing, but it has the disadvantage that each category is mapped to a new feature leading to a big sparse feature map, so it's not suitable for categories with many cardinality.\n",
    "\n",
    "We decide to use a simple numerical mapping for performance reasons."
   ]
  },
  {
   "cell_type": "code",
   "execution_count": 16,
   "metadata": {
    "collapsed": false,
    "scrolled": true
   },
   "outputs": [
    {
     "name": "stderr",
     "output_type": "stream",
     "text": [
      "/usr/local/lib/python3.5/site-packages/ipykernel/__main__.py:3: SettingWithCopyWarning: \n",
      "A value is trying to be set on a copy of a slice from a DataFrame.\n",
      "Try using .loc[row_indexer,col_indexer] = value instead\n",
      "\n",
      "See the caveats in the documentation: http://pandas.pydata.org/pandas-docs/stable/indexing.html#indexing-view-versus-copy\n",
      "  app.launch_new_instance()\n"
     ]
    }
   ],
   "source": [
    "\n",
    "for col in ['Proto', 'State','Dir','Sport','Dport']:\n",
    "    df3[col] = df3[col].astype('category').cat.codes\n"
   ]
  },
  {
   "cell_type": "markdown",
   "metadata": {},
   "source": [
    "###  get the label for each source IP address, if one of flows has been labeled as malicious, then we label the host as Botnet"
   ]
  },
  {
   "cell_type": "code",
   "execution_count": 17,
   "metadata": {
    "collapsed": false
   },
   "outputs": [],
   "source": [
    "host_label = df3.groupby('SrcAddr').biLabel.max()"
   ]
  },
  {
   "cell_type": "code",
   "execution_count": 18,
   "metadata": {
    "collapsed": false,
    "scrolled": true
   },
   "outputs": [
    {
     "name": "stderr",
     "output_type": "stream",
     "text": [
      "/usr/local/lib/python3.5/site-packages/ipykernel/__main__.py:3: SettingWithCopyWarning: \n",
      "A value is trying to be set on a copy of a slice from a DataFrame\n",
      "\n",
      "See the caveats in the documentation: http://pandas.pydata.org/pandas-docs/stable/indexing.html#indexing-view-versus-copy\n",
      "  app.launch_new_instance()\n"
     ]
    },
    {
     "data": {
      "text/html": [
       "<div>\n",
       "<table border=\"1\" class=\"dataframe\">\n",
       "  <thead>\n",
       "    <tr style=\"text-align: right;\">\n",
       "      <th></th>\n",
       "      <th>Dur</th>\n",
       "      <th>Proto</th>\n",
       "      <th>SrcAddr</th>\n",
       "      <th>Sport</th>\n",
       "      <th>Dir</th>\n",
       "      <th>Dport</th>\n",
       "      <th>State</th>\n",
       "      <th>sTos</th>\n",
       "      <th>TotPkts</th>\n",
       "      <th>TotBytes</th>\n",
       "      <th>SrcBytes</th>\n",
       "    </tr>\n",
       "  </thead>\n",
       "  <tbody>\n",
       "    <tr>\n",
       "      <th>150</th>\n",
       "      <td>0.0</td>\n",
       "      <td>2</td>\n",
       "      <td>0</td>\n",
       "      <td>17392</td>\n",
       "      <td>0</td>\n",
       "      <td>59</td>\n",
       "      <td>27</td>\n",
       "      <td>0.0</td>\n",
       "      <td>1</td>\n",
       "      <td>141</td>\n",
       "      <td>141</td>\n",
       "    </tr>\n",
       "  </tbody>\n",
       "</table>\n",
       "</div>"
      ],
      "text/plain": [
       "     Dur  Proto  SrcAddr  Sport  Dir  Dport  State  sTos  TotPkts  TotBytes  \\\n",
       "150  0.0      2        0  17392    0     59     27   0.0        1       141   \n",
       "\n",
       "     SrcBytes  \n",
       "150       141  "
      ]
     },
     "execution_count": 18,
     "metadata": {},
     "output_type": "execute_result"
    }
   ],
   "source": [
    "df_label = df3['biLabel']\n",
    "# host_label = df3.groupby('biLabel').sum()\n",
    "df3.drop('biLabel',axis=1,inplace=True)\n",
    "df3[:1]"
   ]
  },
  {
   "cell_type": "code",
   "execution_count": 19,
   "metadata": {
    "collapsed": false,
    "scrolled": false
   },
   "outputs": [
    {
     "data": {
      "text/plain": [
       "Dur         float64\n",
       "Proto          int8\n",
       "SrcAddr       int64\n",
       "Sport         int16\n",
       "Dir            int8\n",
       "Dport          int8\n",
       "State          int8\n",
       "sTos        float64\n",
       "TotPkts       int64\n",
       "TotBytes      int64\n",
       "SrcBytes      int64\n",
       "dtype: object"
      ]
     },
     "execution_count": 19,
     "metadata": {},
     "output_type": "execute_result"
    }
   ],
   "source": [
    "df3.dtypes"
   ]
  },
  {
   "cell_type": "markdown",
   "metadata": {},
   "source": [
    "## Now, let's do classification.\n",
    "### Evaluate based on (1) flow level and (2) host level.\n",
    "### For host level: do classification on flow level and then aggregare for per IP address(host) and evaluate the performance."
   ]
  },
  {
   "cell_type": "code",
   "execution_count": 20,
   "metadata": {
    "collapsed": true
   },
   "outputs": [],
   "source": [
    "from sklearn.metrics import confusion_matrix, classification_report, accuracy_score, roc_curve, auc\n",
    "from sklearn.model_selection import train_test_split\n",
    "from sklearn.ensemble import RandomForestClassifier, ExtraTreesClassifier, AdaBoostClassifier\n",
    "from sklearn.neighbors import KNeighborsClassifier\n",
    "from sklearn.naive_bayes import GaussianNB\n",
    "from sklearn.tree import DecisionTreeClassifier\n",
    "from sklearn.discriminant_analysis import LinearDiscriminantAnalysis\n",
    "from imblearn.over_sampling import SMOTE"
   ]
  },
  {
   "cell_type": "code",
   "execution_count": 30,
   "metadata": {
    "collapsed": false,
    "scrolled": false
   },
   "outputs": [
    {
     "name": "stdout",
     "output_type": "stream",
     "text": [
      "Classifier: KNeighborsClassifier\n",
      "test size is :14241\n",
      "- Flow level:With SMOTE -> TN: 5966, FP: 25, FN: 123, TP: 8127, Acc: 0.9896074713854364\n",
      "- Host level:TN: 3, FP: 5, FN: 0, TP: 1, Acc: 0.4444444444444444\n",
      "host_label:['0' '0' '0' '0' '0' '0' '0' '1' '0'], host_label_predict['0' '1' '1' '1' '1' '0' '0' '1' '1']\n",
      "Classifier: RandomForestClassifier\n",
      "test size is :14241\n",
      "- Flow level:With SMOTE -> TN: 5990, FP: 1, FN: 0, TP: 8250, Acc: 0.9999297802120638\n",
      "- Host level:TN: 6, FP: 2, FN: 1, TP: 0, Acc: 0.6666666666666666\n",
      "host_label:['0' '0' '0' '0' '0' '0' '0' '1' '0'], host_label_predict['0' '0' '0' '1' '0' '0' '1' '0' '0']\n"
     ]
    }
   ],
   "source": [
    "from sklearn.linear_model import LogisticRegression\n",
    "from sklearn.ensemble import BaggingClassifier, VotingClassifier\n",
    "import numpy as np\n",
    "\n",
    "\n",
    "# ------------Split into training and testing\n",
    "X = df3\n",
    "y = df_label\n",
    "X_train, X_test, y_train, y_test = train_test_split(X, y, test_size=0.2) \n",
    "\n",
    "## -------------prepare for host level evaluation---------------\n",
    "dftest = X_test.copy()\n",
    "dftest['y_test'] = y_test\n",
    "host_label = dftest.groupby('SrcAddr').y_test.max()\n",
    "# print(host_label)\n",
    "\n",
    "classifiers = {\n",
    "    'RandomForestClassifier': {'instance': RandomForestClassifier()},\n",
    "    'KNeighborsClassifier': {'instance': KNeighborsClassifier()},\n",
    "}\n",
    "\n",
    "#----------- Perform oversampling of training set using SMOTE----------\n",
    "sm = SMOTE(ratio='auto', kind='regular')\n",
    "X_train_os, y_train_os = sm.fit_sample(X_train, y_train)\n",
    "\n",
    "\n",
    "for name, classifier in classifiers.items():\n",
    "    print(\"Classifier: {}\".format(name))\n",
    "    clf = classifier['instance']\n",
    "\n",
    "\n",
    "    clf.fit(X_train_os, y_train_os)\n",
    "    y_predict = clf.predict(X_test)\n",
    "    \n",
    "    #-------------------This is for flow level----------------\n",
    "\n",
    "    cf_matrix = confusion_matrix(y_test, y_predict)\n",
    "    \n",
    "    #-------------------This is for host level----------------\n",
    "    dftest[\"SrcAddr\"].replace(dic_inverse, inplace=True)\n",
    "    dftest['y_predict'] = y_predict\n",
    "    host_label_predict = dftest.groupby('SrcAddr').y_predict.max()\n",
    "    host_list = dftest.groupby('SrcAddr').apply(list).index\n",
    "    cf_matrix_label = confusion_matrix(host_label, host_label_predict)\n",
    "\n",
    "    print(\"test size is :{}\".format(len(dftest['y_test'])))\n",
    "\n",
    "    print('- Flow level:With SMOTE -> TN: {}, FP: {}, FN: {}, TP: {}, Acc: {}'.format(*cf_matrix.flatten(), accuracy_score(y_test, y_predict)))\n",
    "    print('- Host level:TN: {}, FP: {}, FN: {}, TP: {}, Acc: {}'.format(*cf_matrix_label.flatten(), accuracy_score(host_label, host_label_predict)))\n",
    "    print(\"host_label:{}, host_label_predict{}\".format(np.array(host_label),np.array(host_label_predict)))"
   ]
  },
  {
   "cell_type": "code",
   "execution_count": 31,
   "metadata": {
    "collapsed": false
   },
   "outputs": [
    {
     "name": "stdout",
     "output_type": "stream",
     "text": [
      "This the host addresses in test set:\n"
     ]
    },
    {
     "data": {
      "text/plain": [
       "Index(['147.32.80.9', '147.32.84.134', '147.32.84.164', '147.32.84.165',\n",
       "       '147.32.84.170', '147.32.86.187', '147.32.87.11', '147.32.87.252',\n",
       "       '147.32.87.36'],\n",
       "      dtype='object', name='SrcAddr')"
      ]
     },
     "execution_count": 31,
     "metadata": {},
     "output_type": "execute_result"
    }
   ],
   "source": [
    "print(\"This the host addresses in test set:\")\n",
    "host_list"
   ]
  }
 ],
 "metadata": {
  "kernelspec": {
   "display_name": "Python 3",
   "language": "python",
   "name": "python3"
  },
  "language_info": {
   "codemirror_mode": {
    "name": "ipython",
    "version": 3
   },
   "file_extension": ".py",
   "mimetype": "text/x-python",
   "name": "python",
   "nbconvert_exporter": "python",
   "pygments_lexer": "ipython3",
   "version": "3.5.2"
  }
 },
 "nbformat": 4,
 "nbformat_minor": 2
}
