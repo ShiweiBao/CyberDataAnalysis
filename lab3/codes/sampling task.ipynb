{
 "cells": [
  {
   "cell_type": "markdown",
   "metadata": {},
   "source": [
    "## Task 1: sampling. \n",
    "### First of all, let's load the data.  The Honeypot data. The total package is 34GB with 47 seperate csv files. We will load the first file and take a look."
   ]
  },
  {
   "cell_type": "code",
   "execution_count": 1,
   "metadata": {
    "collapsed": false
   },
   "outputs": [],
   "source": [
    "import pandas as pd\n",
    "# honeypot = pd.read_csv('two_month/cmds_sequence_2016-07-01.csv',sep = '$$')"
   ]
  },
  {
   "cell_type": "markdown",
   "metadata": {},
   "source": [
    "### Next, we import the pre-processed data with only source IP addresses for the entire period. \n",
    "Data downloaded from slack, made by Qin lin."
   ]
  },
  {
   "cell_type": "code",
   "execution_count": 2,
   "metadata": {
    "collapsed": false
   },
   "outputs": [
    {
     "data": {
      "text/html": [
       "<div>\n",
       "<table border=\"1\" class=\"dataframe\">\n",
       "  <thead>\n",
       "    <tr style=\"text-align: right;\">\n",
       "      <th></th>\n",
       "      <th>IP</th>\n",
       "    </tr>\n",
       "  </thead>\n",
       "  <tbody>\n",
       "    <tr>\n",
       "      <th>0</th>\n",
       "      <td>115.177.11.215</td>\n",
       "    </tr>\n",
       "    <tr>\n",
       "      <th>1</th>\n",
       "      <td>220.134.245.30</td>\n",
       "    </tr>\n",
       "    <tr>\n",
       "      <th>2</th>\n",
       "      <td>218.77.202.162</td>\n",
       "    </tr>\n",
       "    <tr>\n",
       "      <th>3</th>\n",
       "      <td>14.145.251.40</td>\n",
       "    </tr>\n",
       "    <tr>\n",
       "      <th>4</th>\n",
       "      <td>221.154.68.198</td>\n",
       "    </tr>\n",
       "  </tbody>\n",
       "</table>\n",
       "</div>"
      ],
      "text/plain": [
       "               IP\n",
       "0  115.177.11.215\n",
       "1  220.134.245.30\n",
       "2  218.77.202.162\n",
       "3   14.145.251.40\n",
       "4  221.154.68.198"
      ]
     },
     "execution_count": 2,
     "metadata": {},
     "output_type": "execute_result"
    }
   ],
   "source": [
    "colname = ['IP']\n",
    "sourceIP = pd.read_csv('src_ip.txt',header=None,names = colname)\n",
    "# sourceIP.columns =  'IP'\n",
    "sourceIP[ :5]"
   ]
  },
  {
   "cell_type": "code",
   "execution_count": 3,
   "metadata": {
    "collapsed": false,
    "scrolled": true
   },
   "outputs": [
    {
     "name": "stdout",
     "output_type": "stream",
     "text": [
      "There are 3414011 records in total.\n"
     ]
    }
   ],
   "source": [
    "# Let's see how many IP records do we have?\n",
    "print('There are {} records in total.'.format(len(sourceIP)))"
   ]
  },
  {
   "cell_type": "code",
   "execution_count": 4,
   "metadata": {
    "collapsed": false
   },
   "outputs": [
    {
     "data": {
      "text/plain": [
       "562248"
      ]
     },
     "execution_count": 4,
     "metadata": {},
     "output_type": "execute_result"
    }
   ],
   "source": [
    "## Let's see how many unique IP are there?\n",
    "len(sourceIP.IP.value_counts())"
   ]
  },
  {
   "cell_type": "markdown",
   "metadata": {},
   "source": [
    "### Count the frequency for each IP address and sort it by desending order. List the top 10 most frequent IP address."
   ]
  },
  {
   "cell_type": "code",
   "execution_count": 5,
   "metadata": {
    "collapsed": false
   },
   "outputs": [
    {
     "name": "stderr",
     "output_type": "stream",
     "text": [
      "/usr/local/lib/python3.5/site-packages/ipykernel/__main__.py:2: FutureWarning: sort(columns=....) is deprecated, use sort_values(by=.....)\n",
      "  from ipykernel import kernelapp as app\n"
     ]
    },
    {
     "data": {
      "text/html": [
       "<div>\n",
       "<table border=\"1\" class=\"dataframe\">\n",
       "  <thead>\n",
       "    <tr style=\"text-align: right;\">\n",
       "      <th></th>\n",
       "      <th>counts</th>\n",
       "    </tr>\n",
       "    <tr>\n",
       "      <th>IP</th>\n",
       "      <th></th>\n",
       "    </tr>\n",
       "  </thead>\n",
       "  <tbody>\n",
       "    <tr>\n",
       "      <th>115.177.11.215</th>\n",
       "      <td>294690</td>\n",
       "    </tr>\n",
       "    <tr>\n",
       "      <th>115.176.182.196</th>\n",
       "      <td>259241</td>\n",
       "    </tr>\n",
       "    <tr>\n",
       "      <th>192.3.106.42</th>\n",
       "      <td>66572</td>\n",
       "    </tr>\n",
       "    <tr>\n",
       "      <th>191.96.249.189</th>\n",
       "      <td>51251</td>\n",
       "    </tr>\n",
       "    <tr>\n",
       "      <th>104.192.0.20</th>\n",
       "      <td>18707</td>\n",
       "    </tr>\n",
       "    <tr>\n",
       "      <th>198.204.234.26</th>\n",
       "      <td>6817</td>\n",
       "    </tr>\n",
       "    <tr>\n",
       "      <th>198.204.234.27</th>\n",
       "      <td>5284</td>\n",
       "    </tr>\n",
       "    <tr>\n",
       "      <th>198.204.234.28</th>\n",
       "      <td>5239</td>\n",
       "    </tr>\n",
       "    <tr>\n",
       "      <th>185.93.185.10</th>\n",
       "      <td>5157</td>\n",
       "    </tr>\n",
       "    <tr>\n",
       "      <th>198.204.234.30</th>\n",
       "      <td>5049</td>\n",
       "    </tr>\n",
       "  </tbody>\n",
       "</table>\n",
       "</div>"
      ],
      "text/plain": [
       "                 counts\n",
       "IP                     \n",
       "115.177.11.215   294690\n",
       "115.176.182.196  259241\n",
       "192.3.106.42      66572\n",
       "191.96.249.189    51251\n",
       "104.192.0.20      18707\n",
       "198.204.234.26     6817\n",
       "198.204.234.27     5284\n",
       "198.204.234.28     5239\n",
       "185.93.185.10      5157\n",
       "198.204.234.30     5049"
      ]
     },
     "execution_count": 5,
     "metadata": {},
     "output_type": "execute_result"
    }
   ],
   "source": [
    "counts_df = pd.DataFrame(sourceIP.groupby('IP').size().rename('counts'))\n",
    "counts_list = counts_df.sort(['counts'], ascending=0)\n",
    "counts_list[:10]\n",
    "# counts_list = counts_list[1:]\n"
   ]
  },
  {
   "cell_type": "markdown",
   "metadata": {},
   "source": [
    "### Now, let's implement FREQUENT algorithm."
   ]
  },
  {
   "cell_type": "code",
   "execution_count": 6,
   "metadata": {
    "collapsed": false
   },
   "outputs": [],
   "source": [
    "import operator\n",
    "\n",
    "def frequent(n,k):\n",
    "    T = {}\n",
    "    for i in n:\n",
    "        if i in T:\n",
    "            T[i] = T[i]+1\n",
    "\n",
    "        elif len(T) < k:\n",
    "                T[i]=1\n",
    "        else:\n",
    "            for j in T:\n",
    "                T[j] = T[j]-1          \n",
    "            new = { k:v for k, v in T.items() if v!= 0 }\n",
    "#             print(i,new)\n",
    "            del T\n",
    "            T = new\n",
    "\n",
    "    sorted_T = sorted(T.items(), key=operator.itemgetter(1))\n",
    "    sorted_T.reverse()\n",
    "#     print(sorted_T.dtypes)\n",
    "#     sorted_T[0]=counts_list[0]\n",
    "#     print(sorted_T[:10])\n",
    "    \n",
    "#     sorted_10[1] <- count_list[match(as.character(unlist(sorted_10[3:12])),as.character(count_list[[1]])), 2]\n",
    "#     sorted_10[1] <- with( df, ifelse( sorted_10[1] == \"a\", X2, X1 )\n",
    "#     for i in sorted_10[0]:\n",
    "#         sorted_10[i][1] = counts_list[]\n",
    "\n",
    "    return sorted_T[:10]\n"
   ]
  },
  {
   "cell_type": "markdown",
   "metadata": {},
   "source": [
    "### We use the source IP as input, and iterate through reservoirs of size 10, 100, and 1000. List the top 10 frequent IP addresses and their frequecies."
   ]
  },
  {
   "cell_type": "code",
   "execution_count": 7,
   "metadata": {
    "collapsed": false
   },
   "outputs": [],
   "source": [
    "import numpy as np\n",
    "n = np.array(sourceIP['IP'])\n",
    "counter = [10,100,1000]\n",
    "results = {}\n",
    "\n",
    "for k in counter:\n",
    "     results[k]=(frequent(n,k))"
   ]
  },
  {
   "cell_type": "code",
   "execution_count": 8,
   "metadata": {
    "collapsed": false,
    "scrolled": true
   },
   "outputs": [
    {
     "data": {
      "text/plain": [
       "{10: [('115.176.182.196', 79417),\n",
       "  ('191.96.249.189', 696),\n",
       "  ('187.199.79.13', 2),\n",
       "  ('87.96.167.236', 1),\n",
       "  ('187.23.203.254', 1),\n",
       "  ('114.32.130.19', 1),\n",
       "  ('82.178.61.97', 1),\n",
       "  ('115.108.40.16', 1)],\n",
       " 100: [('115.177.11.215', 266753),\n",
       "  ('115.176.182.196', 242841),\n",
       "  ('192.3.106.42', 44058),\n",
       "  ('191.96.249.189', 37924),\n",
       "  ('185.93.185.10', 710),\n",
       "  ('187.199.79.13', 2),\n",
       "  ('2.27.193.109', 2),\n",
       "  ('190.66.183.47', 2),\n",
       "  ('86.105.50.213', 2),\n",
       "  ('93.100.124.249', 1)],\n",
       " 1000: [('115.177.11.215', 291988),\n",
       "  ('115.176.182.196', 257619),\n",
       "  ('192.3.106.42', 64121),\n",
       "  ('191.96.249.189', 49629),\n",
       "  ('104.192.0.20', 16005),\n",
       "  ('185.93.185.10', 4429),\n",
       "  ('198.204.234.26', 4219),\n",
       "  ('198.204.234.27', 2880),\n",
       "  ('198.204.234.28', 2835),\n",
       "  ('198.204.234.30', 2645)]}"
      ]
     },
     "execution_count": 8,
     "metadata": {},
     "output_type": "execute_result"
    }
   ],
   "source": [
    "## This the top 10 IP and their counts for different K (10,100,1000)\n",
    "results"
   ]
  },
  {
   "cell_type": "markdown",
   "metadata": {},
   "source": [
    "### Now let's see the actual frequencies for top 10 IP by FREQUENT with different K"
   ]
  },
  {
   "cell_type": "code",
   "execution_count": 15,
   "metadata": {
    "collapsed": false
   },
   "outputs": [
    {
     "name": "stdout",
     "output_type": "stream",
     "text": [
      "This is the top 10 IP and their actual frequencies: for k = 10\n",
      "[('115.176.182.196', 259241), ('191.96.249.189', 51251), ('187.199.79.13', 84), ('87.96.167.236', 86), ('187.23.203.254', 2), ('114.32.130.19', 1), ('82.178.61.97', 9), ('115.108.40.16', 63)]\n"
     ]
    }
   ],
   "source": [
    "#list the top 10 and theri actual frequencies: \n",
    "\n",
    "\n",
    "def top10fre(results,k):\n",
    "    \n",
    "    IPlist=[]\n",
    "    top10fre = []\n",
    "    print(\"This is the top 10 IP and their actual frequencies: for k = {}\".format(k))\n",
    "    for i in range(len(results[k])):\n",
    "        IPlist.append(results[k][i][0])\n",
    "        top10fre.append(counts_list.loc[counts_list['counts'].index == IPlist[i]].counts)\n",
    "    print([(top10fre[i].index[0],top10fre[i].values[0]) for i in range(0,len(top10fre))])\n",
    "\n",
    "top10fre(results,10)"
   ]
  },
  {
   "cell_type": "code",
   "execution_count": 16,
   "metadata": {
    "collapsed": false
   },
   "outputs": [
    {
     "name": "stdout",
     "output_type": "stream",
     "text": [
      "This is the top 10 IP and their actual frequencies: for k = 100\n",
      "[('115.177.11.215', 294690), ('115.176.182.196', 259241), ('192.3.106.42', 66572), ('191.96.249.189', 51251), ('185.93.185.10', 5157), ('187.199.79.13', 84), ('2.27.193.109', 948), ('190.66.183.47', 84), ('86.105.50.213', 91), ('93.100.124.249', 38)]\n"
     ]
    }
   ],
   "source": [
    "top10fre(results,100)"
   ]
  },
  {
   "cell_type": "code",
   "execution_count": 17,
   "metadata": {
    "collapsed": false
   },
   "outputs": [
    {
     "name": "stdout",
     "output_type": "stream",
     "text": [
      "This is the top 10 IP and their actual frequencies: for k = 1000\n",
      "[('115.177.11.215', 294690), ('115.176.182.196', 259241), ('192.3.106.42', 66572), ('191.96.249.189', 51251), ('104.192.0.20', 18707), ('185.93.185.10', 5157), ('198.204.234.26', 6817), ('198.204.234.27', 5284), ('198.204.234.28', 5239), ('198.204.234.30', 5049)]\n"
     ]
    }
   ],
   "source": [
    "top10fre(results,1000)"
   ]
  }
 ],
 "metadata": {
  "kernelspec": {
   "display_name": "Python 3",
   "language": "python",
   "name": "python3"
  },
  "language_info": {
   "codemirror_mode": {
    "name": "ipython",
    "version": 3
   },
   "file_extension": ".py",
   "mimetype": "text/x-python",
   "name": "python",
   "nbconvert_exporter": "python",
   "pygments_lexer": "ipython3",
   "version": "3.5.2"
  }
 },
 "nbformat": 4,
 "nbformat_minor": 2
}
